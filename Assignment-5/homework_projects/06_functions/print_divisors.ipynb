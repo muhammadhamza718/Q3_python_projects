{
 "cells": [
  {
   "cell_type": "markdown",
   "metadata": {},
   "source": [
    "## Finding Divisors of a Number\n",
    "\n",
    "### Problem Description:\n",
    "- The program asks the user to enter a number.\n",
    "- It then **prints all the divisors** of that number.\n",
    "- A divisor is any number that **divides the given number completely** (i.e., no remainder).\n",
    "\n",
    "### Example:\n",
    "#### Input: \n",
    "Enter a number: 12\n",
    "\n",
    "#### Output:\n",
    "Here are the divisors of 12 1 2 3 4 6 12\n",
    "\n",
    "### Approach:\n",
    "1. **User Input**: Get a number from the user.\n",
    "2. **Loop through all numbers from 1 to the given number**:\n",
    "   - Check if the number is a divisor using the modulo operator (`%`).\n",
    "   - If `num % i == 0`, then `i` is a divisor of `num`.\n",
    "   - Print the divisor.\n",
    "\n",
    "### Key Concepts Used:\n",
    "- **Loops (`for` loop)**\n",
    "- **Conditional Statements (`if` statement)**\n",
    "- **Modulo Operator (`%`)**\n",
    "- **Functions**"
   ]
  },
  {
   "cell_type": "code",
   "execution_count": 4,
   "metadata": {},
   "outputs": [
    {
     "name": "stdout",
     "output_type": "stream",
     "text": [
      "Here are the divisors of 24\n",
      "1\n",
      "2\n",
      "3\n",
      "4\n",
      "6\n",
      "8\n",
      "12\n",
      "24\n"
     ]
    }
   ],
   "source": [
    "def print_divisors(num: int):\n",
    "    \"\"\"\n",
    "    Prints all divisors of the given number.\n",
    "    \"\"\"\n",
    "    print(\"Here are the divisors of\", num)\n",
    "    for i in range(1, num + 1):  # Loop from 1 to num (inclusive)\n",
    "        if num % i == 0:  # Check if i is a divisor\n",
    "            print(i)  # Print the divisor\n",
    "\n",
    "def main():\n",
    "    num = int(input(\"Enter a number: \"))  # Get user input\n",
    "    print_divisors(num)  # Call the function to print divisors\n",
    "\n",
    "if __name__ == '__main__':\n",
    "    main()"
   ]
  }
 ],
 "metadata": {
  "kernelspec": {
   "display_name": "Python 3",
   "language": "python",
   "name": "python3"
  },
  "language_info": {
   "codemirror_mode": {
    "name": "ipython",
    "version": 3
   },
   "file_extension": ".py",
   "mimetype": "text/x-python",
   "name": "python",
   "nbconvert_exporter": "python",
   "pygments_lexer": "ipython3",
   "version": "3.13.2"
  }
 },
 "nbformat": 4,
 "nbformat_minor": 2
}
