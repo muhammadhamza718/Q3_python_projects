{
 "cells": [
  {
   "cell_type": "markdown",
   "metadata": {},
   "source": [
    "## Counting Even Numbers in a List\n",
    "\n",
    "### Problem Description:\n",
    "1. **User Input Collection:**\n",
    "   - The program asks the user to **input integers** one by one.\n",
    "   - The user can **press Enter** to stop entering numbers.\n",
    "   - All entered numbers are stored in a list.\n",
    "\n",
    "2. **Counting Even Numbers:**\n",
    "   - The program then **counts the even numbers** in the list.\n",
    "   - An even number is any number divisible by 2 (`num % 2 == 0`).\n",
    "   - The total count of even numbers is displayed.\n",
    "\n",
    "### Example Run:\n",
    "Enter an integer or press enter to stop: 5 Enter an integer or press enter to stop: 10 Enter an integer or press enter to stop: 12 Enter an integer or press enter to stop: 7 Enter an integer or press enter to stop: 2\n",
    "\n",
    "> **Explanation:** The user entered `[5, 10, 12, 7]`, and the two even numbers (10 and 12) are counted.\n",
    "\n",
    "### Approach:\n",
    "1. **Collect numbers using a while loop** until the user presses Enter.\n",
    "2. **Loop through the list** and count how many numbers are even.\n",
    "3. **Print the final count.**\n",
    "\n",
    "### Key Concepts Used:\n",
    "- **Lists**\n",
    "- **Loops (`while` and `for`)**\n",
    "- **Conditional Statements (`if`)**\n",
    "- **User Input Handling**\n"
   ]
  },
  {
   "cell_type": "code",
   "execution_count": 2,
   "metadata": {},
   "outputs": [
    {
     "name": "stdout",
     "output_type": "stream",
     "text": [
      "1\n"
     ]
    }
   ],
   "source": [
    "def count_even(lst):\n",
    "    \"\"\"\n",
    "    Counts the number of even numbers in the list.\n",
    "    \"\"\"\n",
    "    count = 0  # Counter for even numbers\n",
    "    for num in lst:\n",
    "        if num % 2 == 0:  # Check if the number is even\n",
    "            count += 1  \n",
    "    print(count)  # Output the total count of even numbers\n",
    "\n",
    "def get_list_of_ints():\n",
    "    \"\"\"\n",
    "    Collects user input as integers until they press Enter.\n",
    "    \"\"\"\n",
    "    lst = []  # Initialize an empty list\n",
    "    user_input = input(\"Enter an integer or press enter to stop: \")  \n",
    "    while user_input != \"\":  # Keep asking until the user presses Enter\n",
    "        lst.append(int(user_input))  # Convert input to an integer and add to the list\n",
    "        user_input = input(\"Enter an integer or press enter to stop: \")  \n",
    "    return lst\n",
    "\n",
    "def main():\n",
    "    lst = get_list_of_ints()  # Get the list from the user\n",
    "    count_even(lst)  # Count and print the even numbers\n",
    "\n",
    "# Run the main function\n",
    "if __name__ == \"__main__\":\n",
    "    main()\n"
   ]
  }
 ],
 "metadata": {
  "kernelspec": {
   "display_name": "Python 3",
   "language": "python",
   "name": "python3"
  },
  "language_info": {
   "codemirror_mode": {
    "name": "ipython",
    "version": 3
   },
   "file_extension": ".py",
   "mimetype": "text/x-python",
   "name": "python",
   "nbconvert_exporter": "python",
   "pygments_lexer": "ipython3",
   "version": "3.13.2"
  }
 },
 "nbformat": 4,
 "nbformat_minor": 2
}
