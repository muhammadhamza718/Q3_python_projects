{
 "cells": [
  {
   "cell_type": "markdown",
   "metadata": {},
   "source": [
    "## Calculating the Average of Two Numbers\n",
    "\n",
    "### Problem Description:\n",
    "- The function **takes two numbers** as input.\n",
    "- It calculates and **returns their average**.\n",
    "- The average of two numbers `a` and `b` is given by:\n",
    "  \n",
    "  \\[\n",
    "  \\text{Average} = \\frac{a + b}{2}\n",
    "  \\]\n",
    "\n",
    "### Example Calculation:\n",
    "**Input:** `a = 8, b = 10`  \n",
    "**Output:** `9.0`\n",
    "\n",
    "### Approach:\n",
    "1. **Define a function** `average(a, b)` that:\n",
    "   - Adds `a` and `b`.\n",
    "   - Divides the sum by `2` to find the midpoint.\n",
    "   - Returns the calculated value.\n",
    "2. **Call the function multiple times** to compute averages.\n",
    "3. **Print results** to verify correctness.\n",
    "\n",
    "### Key Concepts Used:\n",
    "- **Functions** in Python\n",
    "- **Mathematical calculations**\n",
    "- **Function calls and return values**"
   ]
  },
  {
   "cell_type": "code",
   "execution_count": 1,
   "metadata": {},
   "outputs": [
    {
     "name": "stdout",
     "output_type": "stream",
     "text": [
      "avg_1: 5.0\n",
      "avg_2: 9.0\n",
      "final: 7.0\n"
     ]
    }
   ],
   "source": [
    "def average(a: float, b: float) -> float:\n",
    "    \"\"\"\n",
    "    Returns the number which is halfway between a and b\n",
    "    \"\"\"\n",
    "    return (a + b) / 2  # Compute and return the average\n",
    "\n",
    "def main():\n",
    "    # Calculate averages\n",
    "    avg_1 = average(0, 10)\n",
    "    avg_2 = average(8, 10)\n",
    "    \n",
    "    # Find the final average of the two previous results\n",
    "    final = average(avg_1, avg_2)\n",
    "\n",
    "    # Print results\n",
    "    print(\"avg_1:\", avg_1)  # Expected output: 5.0\n",
    "    print(\"avg_2:\", avg_2)  # Expected output: 9.0\n",
    "    print(\"final:\", final)  # Expected output: 7.0\n",
    "\n",
    "# Execute the main function\n",
    "if __name__ == '__main__':\n",
    "    main()"
   ]
  },
  {
   "cell_type": "code",
   "execution_count": null,
   "metadata": {},
   "outputs": [
    {
     "name": "stdout",
     "output_type": "stream",
     "text": [
      "Please type the following affirmation: I am capable of doing anything I put my mind to.\n",
      "That's right! :)\n"
     ]
    }
   ],
   "source": [
    "AFFIRMATION = \"I am capable of doing anything I put my mind to.\"\n",
    "\n",
    "def main():\n",
    "    print(\"Please type the following affirmation: \" + AFFIRMATION)\n",
    "\n",
    "    user_feedback = input()  # Get user's input\n",
    "    while user_feedback != AFFIRMATION:  # Loop until input matches the affirmation\n",
    "        print(\"That was not the affirmation.\")\n",
    "        print(\"Please type the following affirmation: \" + AFFIRMATION)\n",
    "        user_feedback = input()\n",
    "\n",
    "    print(\"That's right! :)\")  # Success message\n",
    "\n",
    "# Execute the main function\n",
    "if __name__ == '__main__':\n",
    "    main()\n"
   ]
  }
 ],
 "metadata": {
  "kernelspec": {
   "display_name": "Python 3",
   "language": "python",
   "name": "python3"
  },
  "language_info": {
   "codemirror_mode": {
    "name": "ipython",
    "version": 3
   },
   "file_extension": ".py",
   "mimetype": "text/x-python",
   "name": "python",
   "nbconvert_exporter": "python",
   "pygments_lexer": "ipython3",
   "version": "3.13.2"
  }
 },
 "nbformat": 4,
 "nbformat_minor": 2
}
