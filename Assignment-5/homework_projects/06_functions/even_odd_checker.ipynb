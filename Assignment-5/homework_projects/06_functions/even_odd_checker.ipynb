{
 "cells": [
  {
   "cell_type": "markdown",
   "metadata": {},
   "source": [
    "## Even and Odd Number Checker\n",
    "\n",
    "### Problem Description:\n",
    "- The program prints **numbers from 10 to 19** along with whether they are **even** or **odd**.\n",
    "- Example Output:\n",
    "10 even 11 odd 12 even 13 odd 14 even 15 odd 16 even 17 odd 18 even 19 odd\n",
    "\n",
    "### Approach:\n",
    "1. **Loop through numbers from 10 to 19**:\n",
    " - Use a `for` loop to iterate through this range.\n",
    " \n",
    "2. **Check if the number is even or odd**:\n",
    " - Define a function `is_odd(value)` that returns `True` if a number is odd.\n",
    " - If `is_odd(value)` is `True`, print `\"odd\"`, otherwise print `\"even\"`.\n",
    "\n",
    "### Key Concepts Used:\n",
    "- **Loops (`for` loop)**\n",
    "- **Conditional Statements (`if-else`)**\n",
    "- **Modulo Operator (`%`)**\n",
    "- **Functions**"
   ]
  },
  {
   "cell_type": "code",
   "execution_count": 1,
   "metadata": {},
   "outputs": [
    {
     "name": "stdout",
     "output_type": "stream",
     "text": [
      "10 even\n",
      "11 odd\n",
      "12 even\n",
      "13 odd\n",
      "14 even\n",
      "15 odd\n",
      "16 even\n",
      "17 odd\n",
      "18 even\n",
      "19 odd\n"
     ]
    }
   ],
   "source": [
    "def is_odd(value: int):\n",
    "    \"\"\"\n",
    "    Checks whether a given number is odd.\n",
    "    Returns True if odd, otherwise False.\n",
    "    \"\"\"\n",
    "    return value % 2 == 1  # Odd numbers have remainder 1 when divided by 2\n",
    "\n",
    "def main():\n",
    "    for i in range(10, 20):  # Loop from 10 to 19\n",
    "        if is_odd(i):\n",
    "            print(i, \"odd\")  # Print number and \"odd\"\n",
    "        else:\n",
    "            print(i, \"even\")  # Print number and \"even\"\n",
    "\n",
    "if __name__ == '__main__':\n",
    "    main()\n"
   ]
  }
 ],
 "metadata": {
  "kernelspec": {
   "display_name": "Python 3",
   "language": "python",
   "name": "python3"
  },
  "language_info": {
   "codemirror_mode": {
    "name": "ipython",
    "version": 3
   },
   "file_extension": ".py",
   "mimetype": "text/x-python",
   "name": "python",
   "nbconvert_exporter": "python",
   "pygments_lexer": "ipython3",
   "version": "3.13.2"
  }
 },
 "nbformat": 4,
 "nbformat_minor": 2
}
