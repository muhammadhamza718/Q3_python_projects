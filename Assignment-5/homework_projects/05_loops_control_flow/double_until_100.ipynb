{
 "cells": [
  {
   "cell_type": "markdown",
   "metadata": {},
   "source": [
    "## Doubling a Number Until It Reaches 100\n",
    "\n",
    "### Problem Description:\n",
    "- The program asks the user to **enter a number**.\n",
    "- It then **doubles** that number **repeatedly** until the value reaches or exceeds **100**.\n",
    "- Each doubled value is printed to the screen.\n",
    "\n",
    "### Example Run:\n",
    "**User Input:** `2`  \n",
    "**Output:** 4 8 16 32 64 128\n",
    "- The process stops at `128` since it is **greater than or equal to 100**.\n",
    "\n",
    "### Approach:\n",
    "1. **Read an integer input** from the user.\n",
    "2. **Use a while loop** to keep doubling the number **while it remains less than 100**.\n",
    "3. **Print each doubled value** before updating it.\n",
    "\n",
    "### Key Concepts Used:\n",
    "- **Loops (`while` loop)**\n",
    "- **User input handling**\n",
    "- **Mathematical operations (multiplication)**\n"
   ]
  },
  {
   "cell_type": "code",
   "execution_count": 5,
   "metadata": {},
   "outputs": [
    {
     "name": "stdout",
     "output_type": "stream",
     "text": [
      "2\n",
      "4\n",
      "8\n",
      "16\n",
      "32\n",
      "64\n",
      "128\n"
     ]
    }
   ],
   "source": [
    "def main():\n",
    "    # Get user input\n",
    "    curr_value = int(input(\"Enter a number: \"))  \n",
    "\n",
    "    # Keep doubling the number until it reaches or exceeds 100\n",
    "    while curr_value < 100:\n",
    "        curr_value *= 2  # Double the current value\n",
    "        print(curr_value)  # Print the new value\n",
    "\n",
    "# Execute the main function\n",
    "if __name__ == '__main__':\n",
    "    main()"
   ]
  }
 ],
 "metadata": {
  "kernelspec": {
   "display_name": "Python 3",
   "language": "python",
   "name": "python3"
  },
  "language_info": {
   "codemirror_mode": {
    "name": "ipython",
    "version": 3
   },
   "file_extension": ".py",
   "mimetype": "text/x-python",
   "name": "python",
   "nbconvert_exporter": "python",
   "pygments_lexer": "ipython3",
   "version": "3.13.2"
  }
 },
 "nbformat": 4,
 "nbformat_minor": 2
}
