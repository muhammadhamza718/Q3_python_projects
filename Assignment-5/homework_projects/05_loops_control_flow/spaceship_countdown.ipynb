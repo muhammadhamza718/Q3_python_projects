{
 "cells": [
  {
   "cell_type": "markdown",
   "metadata": {},
   "source": [
    "## Spaceship Countdown Program\n",
    "\n",
    "### Explanation:\n",
    "\n",
    "- This program simulates a ***countdown for a spaceship launch***.\n",
    "- The countdown starts at ***10*** and goes down to ***1***, followed by ***\"Liftoff!\"***.\n",
    "- **Key approach:**\n",
    "  - We use a ***for loop*** with the `range()` function to count ***backwards*** from 10 to 1.\n",
    "  - After the loop completes, we print **\"Liftoff!\"** to indicate the launch.\n",
    "  \n",
    "- **Key concepts used:**\n",
    "  - **For loop** to iterate through a countdown sequence.\n",
    "  - **Range function** with a step of `-1` to count down.\n",
    "  - **String printing** for output display.\n",
    "\n",
    "This program is a simple demonstration of **loops and decrementing sequences** in Python."
   ]
  },
  {
   "cell_type": "code",
   "execution_count": 1,
   "metadata": {},
   "outputs": [
    {
     "name": "stdout",
     "output_type": "stream",
     "text": [
      "10\n",
      "9\n",
      "8\n",
      "7\n",
      "6\n",
      "5\n",
      "4\n",
      "3\n",
      "2\n",
      "1\n",
      "Liftoff!\n"
     ]
    }
   ],
   "source": [
    "def main():\n",
    "    # Countdown from 10 to 1\n",
    "    for i in range(10, 0, -1):  # Starts at 10, stops at 1, decreasing by -1\n",
    "        print(i)\n",
    "    \n",
    "    print(\"Liftoff!\")  # Print the final message\n",
    "\n",
    "# Execute the main function\n",
    "if __name__ == '__main__':\n",
    "    main()"
   ]
  }
 ],
 "metadata": {
  "kernelspec": {
   "display_name": "Python 3",
   "language": "python",
   "name": "python3"
  },
  "language_info": {
   "codemirror_mode": {
    "name": "ipython",
    "version": 3
   },
   "file_extension": ".py",
   "mimetype": "text/x-python",
   "name": "python",
   "nbconvert_exporter": "python",
   "pygments_lexer": "ipython3",
   "version": "3.13.2"
  }
 },
 "nbformat": 4,
 "nbformat_minor": 2
}
