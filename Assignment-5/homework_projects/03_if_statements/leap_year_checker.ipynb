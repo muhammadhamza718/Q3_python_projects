{
 "cells": [
  {
   "cell_type": "markdown",
   "metadata": {},
   "source": [
    "# Leap Year Checker\n",
    "\n",
    "## Problem Statement\n",
    "Write a program that reads a **year** from the user and determines whether it is a **leap year** or not.\n",
    "\n",
    "### What is a Leap Year?\n",
    "A **leap year** (also known as an intercalary or bissextile year) is a year that contains an **extra day** to keep the calendar aligned with the Earth's orbit. In the **Gregorian calendar**, a leap year has **366 days** instead of **365**, with February having **29 days** instead of **28**.\n",
    "\n",
    "### Leap Year Rules:\n",
    "A year is a leap year if:\n",
    "1. It is **divisible by 4**.\n",
    "2. However, if the year is **divisible by 100**, it is **not** a leap year, unless:\n",
    "3. The year is also **divisible by 400**, in which case it **is** a leap year.\n",
    "\n",
    "The program should determine leap years based on these rules and print:\n",
    "- `\"That's a leap year!\"` if it's a leap year.\n",
    "- `\"That's not a leap year.\"` if it's not.\n",
    "\n",
    "---"
   ]
  },
  {
   "cell_type": "code",
   "execution_count": 2,
   "metadata": {},
   "outputs": [
    {
     "name": "stdout",
     "output_type": "stream",
     "text": [
      "That's a leap year!\n"
     ]
    }
   ],
   "source": [
    "def main():\n",
    "    \"\"\"\n",
    "    Determines whether a given year is a leap year.\n",
    "    \"\"\"\n",
    "    # Get the year input from the user\n",
    "    year = int(input('Please input a year: '))\n",
    "\n",
    "    # Leap year logic\n",
    "    if year % 4 == 0:  # Divisible by 4\n",
    "        if year % 100 == 0:  # Divisible by 100\n",
    "            if year % 400 == 0:  # Divisible by 400\n",
    "                print(\"That's a leap year!\")\n",
    "            else:\n",
    "                print(\"That's not a leap year.\")\n",
    "        else:\n",
    "            print(\"That's a leap year!\")\n",
    "    else:\n",
    "        print(\"That's not a leap year.\")\n",
    "\n",
    "# Required function call for execution\n",
    "if __name__ == '__main__':\n",
    "    main()"
   ]
  }
 ],
 "metadata": {
  "kernelspec": {
   "display_name": "Python 3",
   "language": "python",
   "name": "python3"
  },
  "language_info": {
   "codemirror_mode": {
    "name": "ipython",
    "version": 3
   },
   "file_extension": ".py",
   "mimetype": "text/x-python",
   "name": "python",
   "nbconvert_exporter": "python",
   "pygments_lexer": "ipython3",
   "version": "3.13.2"
  }
 },
 "nbformat": 4,
 "nbformat_minor": 2
}
