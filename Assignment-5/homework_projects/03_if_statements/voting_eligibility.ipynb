{
 "cells": [
  {
   "cell_type": "markdown",
   "metadata": {},
   "source": [
    "# Voting Eligibility in Different Countries\n",
    "\n",
    "## Problem Statement\n",
    "Write a program that asks the user for their **age** and lets them know if they can or cannot vote in the following **three fictional countries**:\n",
    "\n",
    "- **Peturksbouipo**: Voting age is **16**  \n",
    "- **Stanlau**: Voting age is **25**  \n",
    "- **Mayengua**: Voting age is **48**  \n",
    "\n",
    "Your program should prompt the user for their age and print whether or not they can vote in each country.  \n",
    "\n",
    "### Example Run:\n"
   ]
  },
  {
   "cell_type": "code",
   "execution_count": 1,
   "metadata": {},
   "outputs": [
    {
     "name": "stdout",
     "output_type": "stream",
     "text": [
      "You can vote in Peturksbouipo where the voting age is 16.\n",
      "You cannot vote in Stanlau where the voting age is 25.\n",
      "You cannot vote in Mayengua where the voting age is 48.\n"
     ]
    }
   ],
   "source": [
    "# Define voting age constants for each country\n",
    "PETURKSBOUIPO_AGE: int = 16\n",
    "STANLAU_AGE: int = 25\n",
    "MAYENGUA_AGE: int = 48\n",
    "\n",
    "def main():\n",
    "    \"\"\"\n",
    "    Asks the user for their age and determines voting eligibility\n",
    "    in three fictional countries.\n",
    "    \"\"\"\n",
    "    # Get the user's age\n",
    "    user_age = int(input(\"How old are you? \"))\n",
    "\n",
    "    # Check if the user can vote in Peturksbouipo\n",
    "    if user_age >= PETURKSBOUIPO_AGE:\n",
    "        print(f\"You can vote in Peturksbouipo where the voting age is {PETURKSBOUIPO_AGE}.\")\n",
    "    else:\n",
    "        print(f\"You cannot vote in Peturksbouipo where the voting age is {PETURKSBOUIPO_AGE}.\")\n",
    "    \n",
    "    # Check if the user can vote in Stanlau\n",
    "    if user_age >= STANLAU_AGE:\n",
    "        print(f\"You can vote in Stanlau where the voting age is {STANLAU_AGE}.\")\n",
    "    else:\n",
    "        print(f\"You cannot vote in Stanlau where the voting age is {STANLAU_AGE}.\")\n",
    "    \n",
    "    # Check if the user can vote in Mayengua\n",
    "    if user_age >= MAYENGUA_AGE:\n",
    "        print(f\"You can vote in Mayengua where the voting age is {MAYENGUA_AGE}.\")\n",
    "    else:\n",
    "        print(f\"You cannot vote in Mayengua where the voting age is {MAYENGUA_AGE}.\")\n",
    "\n",
    "# Required function call for execution\n",
    "if __name__ == '__main__':\n",
    "    main()"
   ]
  }
 ],
 "metadata": {
  "kernelspec": {
   "display_name": "Python 3",
   "language": "python",
   "name": "python3"
  },
  "language_info": {
   "codemirror_mode": {
    "name": "ipython",
    "version": 3
   },
   "file_extension": ".py",
   "mimetype": "text/x-python",
   "name": "python",
   "nbconvert_exporter": "python",
   "pygments_lexer": "ipython3",
   "version": "3.13.2"
  }
 },
 "nbformat": 4,
 "nbformat_minor": 2
}
