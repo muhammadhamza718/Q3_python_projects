{
 "cells": [
  {
   "cell_type": "markdown",
   "metadata": {},
   "source": [
    "# Printing the First 20 Even Numbers\n",
    "\n",
    "## Problem Statement\n",
    "Write a program that prints the first **20 even numbers**.  \n",
    "There are several correct approaches, but they all use a loop of some sort.  \n",
    "Do **not** write twenty `print` statements.  \n",
    "\n",
    "The first even number is **0**, so the expected output is:"
   ]
  },
  {
   "cell_type": "code",
   "execution_count": 1,
   "metadata": {},
   "outputs": [
    {
     "name": "stdout",
     "output_type": "stream",
     "text": [
      "0 2 4 6 8 10 12 14 16 18 20 22 24 26 28 30 32 34 36 38 "
     ]
    }
   ],
   "source": [
    "def main():\n",
    "    \"\"\"\n",
    "    Prints the first 20 even numbers using a loop.\n",
    "    \"\"\"\n",
    "    for i in range(20):  # Loop from 0 to 19 (total 20 numbers)\n",
    "        print(i * 2, end=\" \")  # Print even numbers in a single line with space\n",
    "\n",
    "# Call the main function when \"run\", no need to edit anything below!\n",
    "if __name__ == \"__main__\":\n",
    "    main()\n"
   ]
  }
 ],
 "metadata": {
  "kernelspec": {
   "display_name": "Python 3",
   "language": "python",
   "name": "python3"
  },
  "language_info": {
   "codemirror_mode": {
    "name": "ipython",
    "version": 3
   },
   "file_extension": ".py",
   "mimetype": "text/x-python",
   "name": "python",
   "nbconvert_exporter": "python",
   "pygments_lexer": "ipython3",
   "version": "3.13.2"
  }
 },
 "nbformat": 4,
 "nbformat_minor": 2
}
