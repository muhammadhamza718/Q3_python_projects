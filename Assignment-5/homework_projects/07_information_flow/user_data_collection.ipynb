{
 "cells": [
  {
   "cell_type": "markdown",
   "metadata": {},
   "source": [
    "## Collecting User Data for Website Signup  \n",
    "\n",
    "### Problem Description  \n",
    "The program prompts the user for their **first name, last name, and email address** and returns all three values as a **tuple**.  \n",
    "\n",
    "### Example Run  \n",
    "\n",
    "#### **Input:**  \n",
    "What is your first name?: Jane What is your last name?: Stanford What is your email address?: janestanford@stanford.edu\n",
    "\n",
    "#### **Processing:**  \n",
    "- The user enters their personal details.  \n",
    "- The function `get_user_info()` collects this data and returns it as a tuple.  \n",
    "\n",
    "#### **Output:**  \n",
    "Received the following user data: ('Jane', 'Stanford', 'janestanford@stanford.edu')\n",
    "\n",
    "### **Approach**  \n",
    "1. **User Input Handling:**  \n",
    "   - Ask for first name, last name, and email address.  \n",
    "2. **Returning Multiple Values:**  \n",
    "   - Use a **tuple** to return all three values.  \n",
    "3. **Printing the Data:**  \n",
    "   - Unpack and print the returned tuple.  \n",
    "\n",
    "### **Key Concepts Used**  \n",
    "- **Tuple Packing & Unpacking**  \n",
    "- **User Input Handling (`input()`)**  \n",
    "- **Function Definition & Calling**  "
   ]
  },
  {
   "cell_type": "code",
   "execution_count": 1,
   "metadata": {},
   "outputs": [
    {
     "name": "stdout",
     "output_type": "stream",
     "text": [
      "Received the following user data: ('Muhammad', 'Hamza', 'mhamza7718@gmail.com')\n"
     ]
    }
   ],
   "source": [
    "def get_user_info():\n",
    "    \"\"\"\n",
    "    Collects user information: first name, last name, and email.\n",
    "    Returns the values as a tuple.\n",
    "    \"\"\"\n",
    "    first_name: str = input(\"What is your first name?: \")\n",
    "    last_name: str = input(\"What is your last name?: \")\n",
    "    email_address: str = input(\"What is your email address?: \")\n",
    "    \n",
    "    return first_name, last_name, email_address  # Returns a tuple\n",
    "\n",
    "def main():\n",
    "    user_data = get_user_info()  # Collect user data\n",
    "    print(\"Received the following user data:\", user_data)  # Print tuple\n",
    "\n",
    "if __name__ == \"__main__\":\n",
    "    main()"
   ]
  }
 ],
 "metadata": {
  "kernelspec": {
   "display_name": "Python 3",
   "language": "python",
   "name": "python3"
  },
  "language_info": {
   "codemirror_mode": {
    "name": "ipython",
    "version": 3
   },
   "file_extension": ".py",
   "mimetype": "text/x-python",
   "name": "python",
   "nbconvert_exporter": "python",
   "pygments_lexer": "ipython3",
   "version": "3.13.2"
  }
 },
 "nbformat": 4,
 "nbformat_minor": 2
}
