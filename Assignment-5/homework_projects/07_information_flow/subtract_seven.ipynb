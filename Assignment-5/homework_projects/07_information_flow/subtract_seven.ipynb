{
 "cells": [
  {
   "cell_type": "markdown",
   "metadata": {},
   "source": [
    "## Subtracting Seven from a Number  \n",
    "\n",
    "### Problem Description  \n",
    "The program defines a helper function `subtract_seven(num)` that subtracts **7** from a given number. The `main()` function initializes a number, calls the helper function, and prints the result.  \n",
    "\n",
    "### Example Run  \n",
    "\n",
    "#### **Input (Hardcoded in Code):**  \n",
    "num = 7\n",
    "\n",
    "#### **Processing:**  \n",
    "- Call `subtract_seven(7) → 7 - 7 = 0`  \n",
    "- Store the result and print it  \n",
    "\n",
    "#### **Output:**  \n",
    "this should be zero: 0\n",
    "\n",
    "### **Approach**  \n",
    "1. **Define the Helper Function:**  \n",
    "   - Subtract 7 from the input number.  \n",
    "   - Return the updated value.  \n",
    "2. **Call the Function in `main()`:**  \n",
    "   - Initialize `num` with `7`.  \n",
    "   - Call `subtract_seven(num)`.  \n",
    "   - Print the result.  \n",
    "\n",
    "### **Key Concepts Used**  \n",
    "- **Function Definition & Calling**  \n",
    "- **Basic Arithmetic Operations (`-`)**  \n",
    "- **Variable Assignment**  "
   ]
  },
  {
   "cell_type": "code",
   "execution_count": 5,
   "metadata": {},
   "outputs": [
    {
     "name": "stdout",
     "output_type": "stream",
     "text": [
      "this should be zero: 0\n"
     ]
    }
   ],
   "source": [
    "def subtract_seven(num):\n",
    "    \"\"\"\n",
    "    Subtracts 7 from the given number and returns the result.\n",
    "    \"\"\"\n",
    "    return num - 7  # Perform subtraction\n",
    "\n",
    "def main():\n",
    "    num: int = 7  # Initialize number\n",
    "    num = subtract_seven(num)  # Call helper function\n",
    "    print(\"this should be zero:\", num)  # Print result\n",
    "\n",
    "if __name__ == '__main__':\n",
    "    main()"
   ]
  }
 ],
 "metadata": {
  "kernelspec": {
   "display_name": "Python 3",
   "language": "python",
   "name": "python3"
  },
  "language_info": {
   "codemirror_mode": {
    "name": "ipython",
    "version": 3
   },
   "file_extension": ".py",
   "mimetype": "text/x-python",
   "name": "python",
   "nbconvert_exporter": "python",
   "pygments_lexer": "ipython3",
   "version": "3.13.2"
  }
 },
 "nbformat": 4,
 "nbformat_minor": 2
}
