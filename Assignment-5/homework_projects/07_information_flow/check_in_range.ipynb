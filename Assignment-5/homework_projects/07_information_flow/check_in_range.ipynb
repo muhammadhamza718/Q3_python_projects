{
 "cells": [
  {
   "cell_type": "markdown",
   "metadata": {},
   "source": [
    "## Checking if a Number is Within a Range\n",
    "\n",
    "### **Problem Description:**\n",
    "- The function `in_range(n, low, high)` checks if a number `n` is between `low` and `high` (inclusive).\n",
    "- The value of `high` is always guaranteed to be greater than `low`.\n",
    "\n",
    "### **Example Runs:**\n",
    "#### **Input 1:**\n",
    "Enter a number: 5  \n",
    "Enter the lower bound: 1  \n",
    "Enter the upper bound: 10  \n",
    "\n",
    "#### **Processing:**\n",
    "- 5 is between 1 and 10 → **Return `True`**  \n",
    "\n",
    "#### **Output:**\n",
    "True\n",
    "\n",
    "#### **Input 2:**\n",
    "Enter a number: 15  \n",
    "Enter the lower bound: 1  \n",
    "Enter the upper bound: 10  \n",
    "\n",
    "#### **Processing:**\n",
    "- 15 is **not** between 1 and 10 → **Return `False`**  \n",
    "\n",
    "#### **Output:**\n",
    "False\n",
    "\n",
    "### **Approach**\n",
    "1. **User Input Handling**:\n",
    "   - Read three integers from the user.\n",
    "2. **Range Checking**:\n",
    "   - Use comparison operators: `low <= n <= high` to check if `n` is in range.\n",
    "3. **Return the Result**:\n",
    "   - Print `True` if `n` is in range, else print `False`.\n",
    "\n",
    "### **Key Concepts Used:**\n",
    "- **Comparison Operators (`<=`)**\n",
    "- **Boolean Logic (`True` / `False`)**\n",
    "- **Function Definition & Calling**\n"
   ]
  },
  {
   "cell_type": "code",
   "execution_count": 1,
   "metadata": {},
   "outputs": [
    {
     "name": "stdout",
     "output_type": "stream",
     "text": [
      "True\n"
     ]
    }
   ],
   "source": [
    "def in_range(n: int, low: int, high: int) -> bool:\n",
    "    \"\"\"\n",
    "    Returns True if n is between low and high, inclusive.\n",
    "    high is guaranteed to be greater than low.\n",
    "    \"\"\"\n",
    "    return low <= n <= high  # Directly return the boolean result\n",
    "\n",
    "def main():\n",
    "    n = int(input(\"Enter a number: \"))  # Get user input for n\n",
    "    low = int(input(\"Enter the lower bound: \"))  # Get user input for low\n",
    "    high = int(input(\"Enter the upper bound: \"))  # Get user input for high\n",
    "\n",
    "    print(in_range(n, low, high))  # Call function and print result\n",
    "\n",
    "if __name__ == '__main__':\n",
    "    main()"
   ]
  }
 ],
 "metadata": {
  "kernelspec": {
   "display_name": "Python 3",
   "language": "python",
   "name": "python3"
  },
  "language_info": {
   "codemirror_mode": {
    "name": "ipython",
    "version": 3
   },
   "file_extension": ".py",
   "mimetype": "text/x-python",
   "name": "python",
   "nbconvert_exporter": "python",
   "pygments_lexer": "ipython3",
   "version": "3.13.2"
  }
 },
 "nbformat": 4,
 "nbformat_minor": 2
}
