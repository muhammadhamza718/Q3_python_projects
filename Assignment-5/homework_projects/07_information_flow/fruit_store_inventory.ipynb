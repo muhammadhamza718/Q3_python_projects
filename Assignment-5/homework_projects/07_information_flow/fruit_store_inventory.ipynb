{
 "cells": [
  {
   "cell_type": "markdown",
   "metadata": {},
   "source": [
    "## Checking Fruit Inventory in Sophia's Store  \n",
    "\n",
    "### Problem Description  \n",
    "Sophia owns a fruit store and wants to check how many of a specific fruit are in stock. The program:  \n",
    "- Prompts the user to enter a fruit name.  \n",
    "- Calls `num_in_stock(fruit)` to retrieve the inventory count.  \n",
    "- Prints the stock count if the fruit is available.  \n",
    "- Displays a message if the fruit is out of stock.  \n",
    "\n",
    "### Example Runs  \n",
    "\n",
    "#### **Input 1:**  \n",
    "Enter a fruit: pear\n",
    "\n",
    "#### **Processing:**  \n",
    "- `num_in_stock(\"pear\")` returns `1000`.  \n",
    "#### **Output:**  \n",
    "This fruit is in stock! Here is how many: 1000\n",
    "\n",
    "\n",
    "#### **Input 2:**  \n",
    "Enter a fruit: lychee\n",
    "\n",
    "#### **Processing:**  \n",
    "- `num_in_stock(\"lychee\")` returns `0`.  \n",
    "#### **Output:**  \n",
    "This fruit is not in stock.\n",
    "\n",
    "### Approach  \n",
    "1. **User Input Handling:**  \n",
    "   - Read a fruit name from the user.  \n",
    "2. **Checking Inventory:**  \n",
    "   - Call `num_in_stock(fruit)`.  \n",
    "   - If stock > 0, print the count.  \n",
    "   - Otherwise, print \"not in stock\" message.  \n",
    "3. **Function Definition:**  \n",
    "   - `num_in_stock(fruit)` returns a predefined stock count based on available fruits.  \n",
    "\n",
    "### **Key Concepts Used**  \n",
    "- **Conditional Statements (`if-else`)**  \n",
    "- **User Input Handling (`input()`)**  \n",
    "- **Function Definition & Calling**  "
   ]
  },
  {
   "cell_type": "code",
   "execution_count": 3,
   "metadata": {},
   "outputs": [
    {
     "name": "stdout",
     "output_type": "stream",
     "text": [
      "This fruit is not in stock.\n"
     ]
    }
   ],
   "source": [
    "def main():\n",
    "    fruit: str = input(\"Enter a fruit: \")  # Get fruit input from user\n",
    "    stock = num_in_stock(fruit)  # Check inventory\n",
    "    if stock == 0:\n",
    "        print(\"This fruit is not in stock.\")  # If stock is 0, print message\n",
    "    else:\n",
    "        print(\"This fruit is in stock! Here is how many:\")\n",
    "        print(stock)  # Print available stock count\n",
    "\n",
    "# Function to check fruit stock\n",
    "def num_in_stock(fruit):\n",
    "    \"\"\"\n",
    "    This function returns the number of fruit Sophia has in stock.\n",
    "    \"\"\"\n",
    "    if fruit == 'apple':\n",
    "        return 2\n",
    "    if fruit == 'durian':\n",
    "        return 4\n",
    "    if fruit == 'pear':\n",
    "        return 1000\n",
    "    else:\n",
    "        return 0  # Fruit is not in stock\n",
    "\n",
    "if __name__ == '__main__':\n",
    "    main()"
   ]
  }
 ],
 "metadata": {
  "kernelspec": {
   "display_name": "Python 3",
   "language": "python",
   "name": "python3"
  },
  "language_info": {
   "codemirror_mode": {
    "name": "ipython",
    "version": 3
   },
   "file_extension": ".py",
   "mimetype": "text/x-python",
   "name": "python",
   "nbconvert_exporter": "python",
   "pygments_lexer": "ipython3",
   "version": "3.13.2"
  }
 },
 "nbformat": 4,
 "nbformat_minor": 2
}
