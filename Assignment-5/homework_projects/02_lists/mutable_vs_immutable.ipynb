{
 "cells": [
  {
   "cell_type": "markdown",
   "metadata": {},
   "source": [
    "# Understanding Mutable and Immutable Data in Python\n",
    "\n",
    "## **Concept**\n",
    "- In Python, **immutable** data types (e.g., integers, strings) do not retain changes inside functions unless explicitly returned.\n",
    "- **Mutable** data types (e.g., lists, dictionaries) retain changes even if not returned.\n",
    "\n",
    "## **Example**\n",
    "- We'll create a function `add_three_copies(...)` that adds three copies of a given value to a list.\n",
    "- The list will be modified **without returning** anything.\n",
    "\n",
    "---"
   ]
  },
  {
   "cell_type": "code",
   "execution_count": 2,
   "metadata": {},
   "outputs": [
    {
     "name": "stdout",
     "output_type": "stream",
     "text": [
      "List before: []\n",
      "List after: ['Hi, I am Hamza', 'Hi, I am Hamza', 'Hi, I am Hamza']\n"
     ]
    }
   ],
   "source": [
    "def add_three_copies(my_list, data):\n",
    "    \"\"\"\n",
    "    Appends three copies of `data` to the provided list.\n",
    "    Since lists are mutable, changes persist outside the function.\n",
    "    \"\"\"\n",
    "    for _ in range(3):\n",
    "        my_list.append(data)\n",
    "\n",
    "def main():\n",
    "    # Get user input\n",
    "    message = input(\"Enter a message to copy: \")\n",
    "    \n",
    "    # Initialize an empty list\n",
    "    my_list = []\n",
    "    print(\"List before:\", my_list)\n",
    "    \n",
    "    # Modify the list inside the function (without returning it)\n",
    "    add_three_copies(my_list, message)\n",
    "    \n",
    "    # Display modified list\n",
    "    print(\"List after:\", my_list)\n",
    "\n",
    "# Run the function\n",
    "main()\n"
   ]
  }
 ],
 "metadata": {
  "kernelspec": {
   "display_name": "Python 3",
   "language": "python",
   "name": "python3"
  },
  "language_info": {
   "codemirror_mode": {
    "name": "ipython",
    "version": 3
   },
   "file_extension": ".py",
   "mimetype": "text/x-python",
   "name": "python",
   "nbconvert_exporter": "python",
   "pygments_lexer": "ipython3",
   "version": "3.13.2"
  }
 },
 "nbformat": 4,
 "nbformat_minor": 2
}
