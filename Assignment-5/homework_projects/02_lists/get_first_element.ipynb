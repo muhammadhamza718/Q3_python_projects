{
 "cells": [
  {
   "cell_type": "markdown",
   "metadata": {},
   "source": [
    "# Getting the First Element of a List\n",
    "\n",
    "## **Problem Statement**\n",
    "- The function `get_first_element(lst)` takes a **non-empty list** and prints its first element.\n",
    "- The user will input elements **one by one** to create the list.\n",
    "\n",
    "---"
   ]
  },
  {
   "cell_type": "code",
   "execution_count": 1,
   "metadata": {},
   "outputs": [
    {
     "name": "stdout",
     "output_type": "stream",
     "text": [
      "Mango, Apple, Banana, Pineapple\n"
     ]
    }
   ],
   "source": [
    "def get_first_element(lst):\n",
    "    \"\"\"\n",
    "    Prints the first element of the provided list.\n",
    "    \"\"\"\n",
    "    print(lst[0])\n",
    "\n",
    "def get_lst():\n",
    "    \"\"\"\n",
    "    Prompts the user to enter elements of the list one at a time and returns the list.\n",
    "    \"\"\"\n",
    "    lst = []\n",
    "    elem = input(\"Please enter an element of the list or press enter to stop: \")\n",
    "    while elem != \"\":\n",
    "        lst.append(elem)\n",
    "        elem = input(\"Please enter an element of the list or press enter to stop: \")\n",
    "    return lst\n",
    "\n",
    "def main():\n",
    "    lst = get_lst()  # Get user-inputted list\n",
    "    get_first_element(lst)  # Print the first element\n",
    "\n",
    "# Run the function\n",
    "main()"
   ]
  }
 ],
 "metadata": {
  "kernelspec": {
   "display_name": "Python 3",
   "language": "python",
   "name": "python3"
  },
  "language_info": {
   "codemirror_mode": {
    "name": "ipython",
    "version": 3
   },
   "file_extension": ".py",
   "mimetype": "text/x-python",
   "name": "python",
   "nbconvert_exporter": "python",
   "pygments_lexer": "ipython3",
   "version": "3.13.2"
  }
 },
 "nbformat": 4,
 "nbformat_minor": 2
}
