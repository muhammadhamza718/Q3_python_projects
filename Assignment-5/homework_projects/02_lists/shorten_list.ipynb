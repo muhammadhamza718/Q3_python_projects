{
 "cells": [
  {
   "cell_type": "markdown",
   "metadata": {},
   "source": [
    "# Shortening a List to a Maximum Length\n",
    "\n",
    "## Problem Statement  \n",
    "The function `shorten(lst)` removes elements from the end of `lst` until its length is equal to `MAX_LENGTH`.  \n",
    "- It prints each removed element.\n",
    "- If `lst` is already shorter than `MAX_LENGTH`, it remains unchanged.  \n",
    "- The `main()` function gathers user input and calls `shorten(lst)`.  \n",
    "- For grading purposes, `MAX_LENGTH` is set to `3`, but you can modify it for testing.\n",
    "\n",
    "---"
   ]
  },
  {
   "cell_type": "code",
   "execution_count": 2,
   "metadata": {},
   "outputs": [
    {
     "name": "stdout",
     "output_type": "stream",
     "text": [
      "F\n",
      "E\n",
      "D\n"
     ]
    }
   ],
   "source": [
    "MAX_LENGTH = 3  # Define the maximum allowed length\n",
    "\n",
    "def shorten(lst):\n",
    "    \"\"\"\n",
    "    Removes elements from lst until it is MAX_LENGTH items long.\n",
    "    Prints each removed element.\n",
    "    \"\"\"\n",
    "    while len(lst) > MAX_LENGTH:\n",
    "        last_elem = lst.pop()\n",
    "        print(last_elem)\n",
    "\n",
    "def get_lst():\n",
    "    \"\"\"\n",
    "    Prompts the user to enter elements one by one and returns the final list.\n",
    "    Stops when the user presses enter without input.\n",
    "    \"\"\"\n",
    "    lst = []\n",
    "    elem = input(\"Please enter an element of the list or press enter to stop: \")\n",
    "    \n",
    "    while elem:\n",
    "        lst.append(elem)\n",
    "        elem = input(\"Please enter an element of the list or press enter to stop: \")\n",
    "    \n",
    "    return lst\n",
    "\n",
    "def main():\n",
    "    lst = get_lst()  # Get user input as a list\n",
    "    shorten(lst)  # Shorten the list if needed\n",
    "\n",
    "# Run the program\n",
    "if __name__ == '__main__':\n",
    "    main()"
   ]
  }
 ],
 "metadata": {
  "kernelspec": {
   "display_name": "Python 3",
   "language": "python",
   "name": "python3"
  },
  "language_info": {
   "codemirror_mode": {
    "name": "ipython",
    "version": 3
   },
   "file_extension": ".py",
   "mimetype": "text/x-python",
   "name": "python",
   "nbconvert_exporter": "python",
   "pygments_lexer": "ipython3",
   "version": "3.13.2"
  }
 },
 "nbformat": 4,
 "nbformat_minor": 2
}
