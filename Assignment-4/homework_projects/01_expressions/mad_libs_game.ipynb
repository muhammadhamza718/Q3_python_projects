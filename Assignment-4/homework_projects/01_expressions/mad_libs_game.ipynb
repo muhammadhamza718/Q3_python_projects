{
 "cells": [
  {
   "cell_type": "markdown",
   "metadata": {},
   "source": [
    "# Mad Libs Game\n",
    "This program prompts the user to enter three words: an adjective, a noun, and a verb. Then it uses these words to create a fun sentence!\n",
    "\n",
    "The template sentence starts with the phrase \"Panaversity is fun. I learned to program and used Python to make my\", and the user's inputs are inserted to complete the story.\n",
    "\n",
    "Example run:\n"
   ]
  },
  {
   "cell_type": "code",
   "execution_count": null,
   "metadata": {},
   "outputs": [],
   "source": [
    "SENTENCE_START = \"Panaversity is fun. I learned to program and used Python to make my \"  # adjective noun verb\n",
    "\n",
    "def main():\n",
    "    # Get the three inputs from the user to make the adlib\n",
    "    adjective = input(\"Please type an adjective and press enter. \")\n",
    "    noun = input(\"Please type a noun and press enter. \")\n",
    "    verb = input(\"Please type a verb and press enter. \")\n",
    "\n",
    "    # Join the inputs together with the sentence starter\n",
    "    print(SENTENCE_START + adjective + \" \" + noun + \" \" + verb + \"!\")\n",
    "\n",
    "if __name__ == '__main__':\n",
    "    main()\n"
   ]
  }
 ],
 "metadata": {
  "kernelspec": {
   "display_name": "Python 3",
   "language": "python",
   "name": "python3"
  },
  "language_info": {
   "codemirror_mode": {
    "name": "ipython",
    "version": 3
   },
   "file_extension": ".py",
   "mimetype": "text/x-python",
   "name": "python",
   "nbconvert_exporter": "python",
   "pygments_lexer": "ipython3",
   "version": "3.13.2"
  }
 },
 "nbformat": 4,
 "nbformat_minor": 2
}
