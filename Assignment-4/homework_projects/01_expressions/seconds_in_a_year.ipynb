{
 "cells": [
  {
   "cell_type": "markdown",
   "metadata": {},
   "source": [
    "# Calculate the Number of Seconds in a Year\n",
    "This program calculates the number of seconds in a year using basic constants for:\n",
    "\n",
    "- 365 days in a year\n",
    "- 24 hours in a day\n",
    "- 60 minutes in an hour\n",
    "- 60 seconds in a minute\n",
    "\n",
    "The program multiplies these constants together and prints the result in a user-friendly message.\n"
   ]
  },
  {
   "cell_type": "code",
   "execution_count": 2,
   "metadata": {},
   "outputs": [
    {
     "name": "stdout",
     "output_type": "stream",
     "text": [
      "There are 31536000 seconds in a year!\n"
     ]
    }
   ],
   "source": [
    "# Useful constants to help make the math easier and cleaner!\n",
    "DAYS_PER_YEAR = 365\n",
    "HOURS_PER_DAY = 24\n",
    "MIN_PER_HOUR = 60\n",
    "SEC_PER_MIN = 60\n",
    "\n",
    "def main():\n",
    "    # We can get the number of seconds per year by multiplying the handy constants above!\n",
    "    print(\"There are \" + str(DAYS_PER_YEAR * HOURS_PER_DAY * MIN_PER_HOUR * SEC_PER_MIN) + \" seconds in a year!\")\n",
    "\n",
    "if __name__ == '__main__':\n",
    "    main()\n"
   ]
  }
 ],
 "metadata": {
  "kernelspec": {
   "display_name": "Python 3",
   "language": "python",
   "name": "python3"
  },
  "language_info": {
   "codemirror_mode": {
    "name": "ipython",
    "version": 3
   },
   "file_extension": ".py",
   "mimetype": "text/x-python",
   "name": "python",
   "nbconvert_exporter": "python",
   "pygments_lexer": "ipython3",
   "version": "3.13.2"
  }
 },
 "nbformat": 4,
 "nbformat_minor": 2
}
