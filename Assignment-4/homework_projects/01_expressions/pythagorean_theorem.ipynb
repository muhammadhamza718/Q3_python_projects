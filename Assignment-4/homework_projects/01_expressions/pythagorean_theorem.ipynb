{
 "cells": [
  {
   "cell_type": "markdown",
   "metadata": {},
   "source": [
    "# Pythagorean Theorem Calculator\n",
    "This program calculates the hypotenuse of a right triangle using the **Pythagorean Theorem**.\n",
    "\n",
    "The formula states:\n",
    "\\[ c^2 = a^2 + b^2 \\]\n",
    "\n",
    "Where:\n",
    "- `a` and `b` are the two perpendicular sides\n",
    "- `c` is the hypotenuse"
   ]
  },
  {
   "cell_type": "code",
   "execution_count": 2,
   "metadata": {},
   "outputs": [
    {
     "name": "stdout",
     "output_type": "stream",
     "text": [
      "The length of BC (the hypotenuse) is: 25.612496949731394\n"
     ]
    }
   ],
   "source": [
    "import math  # Import the math library so we can use the sqrt function\n",
    "\n",
    "def main():\n",
    "    # Get the two side lengths from the user and cast them to be numbers\n",
    "    ab: float = float(input(\"Enter the length of AB: \"))\n",
    "    ac: float = float(input(\"Enter the length of AC: \"))\n",
    "\n",
    "    # Calculate the hypotenuse using the two sides and print it out\n",
    "    bc: float = math.sqrt(ab**2 + ac**2)\n",
    "    print(\"The length of BC (the hypotenuse) is: \" + str(bc))\n",
    "\n",
    "# There is no need to edit code beyond this point\n",
    "\n",
    "if __name__ == '__main__':\n",
    "    main()"
   ]
  }
 ],
 "metadata": {
  "kernelspec": {
   "display_name": "Python 3",
   "language": "python",
   "name": "python3"
  },
  "language_info": {
   "codemirror_mode": {
    "name": "ipython",
    "version": 3
   },
   "file_extension": ".py",
   "mimetype": "text/x-python",
   "name": "python",
   "nbconvert_exporter": "python",
   "pygments_lexer": "ipython3",
   "version": "3.13.2"
  }
 },
 "nbformat": 4,
 "nbformat_minor": 4
}
