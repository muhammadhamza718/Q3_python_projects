{
 "cells": [
  {
   "cell_type": "markdown",
   "metadata": {},
   "source": [
    "# Mass-Energy Equivalence Calculator\n",
    "This program calculates the energy equivalent of a given mass using Einstein's famous equation:  \n",
    "\\[ E = m \\times c^2 \\]  \n",
    "where:  \n",
    "- \\( E \\) is energy in joules  \n",
    "- \\( m \\) is mass in kilograms  \n",
    "- \\( c \\) is the speed of light (299,792,458 m/s)  \n",
    "\n",
    "The user enters a mass value, and the program computes and displays the corresponding energy.\n"
   ]
  },
  {
   "cell_type": "code",
   "execution_count": 1,
   "id": "cell-1",
   "metadata": {},
   "outputs": [
    {
     "name": "stdout",
     "output_type": "stream",
     "text": [
      "e = m * C^2...\n",
      "m = 46.0 kg\n",
      "C = 299792458 m/s\n",
      "4.134273822189361e+18 joules of energy!\n",
      "\n",
      "e = m * C^2...\n",
      "m = 89.0 kg\n",
      "C = 299792458 m/s\n",
      "7.998921090757677e+18 joules of energy!\n",
      "\n",
      "Exiting program...\n"
     ]
    }
   ],
   "source": [
    "C = 299792458  # The speed of light in m/s\n",
    "\n",
    "def mass_energy_equivalence():\n",
    "    while True:\n",
    "        try:\n",
    "            mass_in_kg = float(input(\"Enter kilos of mass (or type 'exit' to quit): \"))\n",
    "        except ValueError:\n",
    "            print(\"Exiting program...\")\n",
    "            break\n",
    "\n",
    "        # Calculate energy\n",
    "        energy_in_joules = mass_in_kg * (C ** 2)\n",
    "\n",
    "        # Display result\n",
    "        print(\"e = m * C^2...\")\n",
    "        print(f\"m = {mass_in_kg} kg\")\n",
    "        print(f\"C = {C} m/s\")\n",
    "        print(f\"{energy_in_joules} joules of energy!\\n\")\n",
    "\n",
    "# Run the function\n",
    "mass_energy_equivalence()"
   ]
  }
 ],
 "metadata": {
  "kernelspec": {
   "display_name": "Python 3",
   "language": "python",
   "name": "python3"
  },
  "language_info": {
   "codemirror_mode": {
    "name": "ipython",
    "version": 3
   },
   "file_extension": ".py",
   "mimetype": "text/x-python",
   "name": "python",
   "nbconvert_exporter": "python",
   "pygments_lexer": "ipython3",
   "version": "3.13.2"
  }
 },
 "nbformat": 4,
 "nbformat_minor": 4
}
