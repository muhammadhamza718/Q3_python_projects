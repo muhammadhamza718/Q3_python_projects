{
 "cells": [
  {
   "cell_type": "markdown",
   "metadata": {},
   "source": [
    "# Dice Rolling Simulator\n",
    "This program simulates rolling two dice three times and prints the results.  \n",
    "It demonstrates the concept of variable scope in Python.\n"
   ]
  },
  {
   "cell_type": "code",
   "execution_count": 1,
   "metadata": {},
   "outputs": [
    {
     "name": "stdout",
     "output_type": "stream",
     "text": [
      "die1 in main() starts as: 10\n",
      "Total of two dice: 10\n",
      "Total of two dice: 5\n",
      "Total of two dice: 8\n",
      "die1 in main() is: 10\n"
     ]
    }
   ],
   "source": [
    "# Import the random library to generate random numbers\n",
    "import random\n",
    "\n",
    "# Number of sides on each die\n",
    "NUM_SIDES = 6\n",
    "\n",
    "def roll_dice():\n",
    "    \"\"\"\n",
    "    Simulates rolling two dice and prints their total\n",
    "    \"\"\"\n",
    "    die1 = random.randint(1, NUM_SIDES)\n",
    "    die2 = random.randint(1, NUM_SIDES)\n",
    "    total = die1 + die2\n",
    "    print(\"Total of two dice:\", total)\n",
    "\n",
    "def main():\n",
    "    die1 = 10  # Local variable in main()\n",
    "    print(\"die1 in main() starts as: \" + str(die1))\n",
    "    \n",
    "    # Simulate rolling dice three times\n",
    "    roll_dice()\n",
    "    roll_dice()\n",
    "    roll_dice()\n",
    "    \n",
    "    print(\"die1 in main() is: \" + str(die1))  # Check if the value changed\n",
    "\n",
    "# Calling the main function\n",
    "if __name__ == '__main__':\n",
    "    main()\n"
   ]
  }
 ],
 "metadata": {
  "kernelspec": {
   "display_name": "Python 3",
   "language": "python",
   "name": "python3"
  },
  "language_info": {
   "codemirror_mode": {
    "name": "ipython",
    "version": 3
   },
   "file_extension": ".py",
   "mimetype": "text/x-python",
   "name": "python",
   "nbconvert_exporter": "python",
   "pygments_lexer": "ipython3",
   "version": "undefined.undefined.undefined"
  }
 },
 "nbformat": 4,
 "nbformat_minor": 2
}
