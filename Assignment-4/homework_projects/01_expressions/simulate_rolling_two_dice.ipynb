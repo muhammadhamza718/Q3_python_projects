{
 "cells": [
  {
   "cell_type": "markdown",
   "metadata": {},
   "source": [
    "# Simulate Rolling Two Dice\n",
    "This program simulates rolling two dice and prints the results of each roll along with the total.\n",
    "\n",
    "The dice have 6 sides, and the program rolls both dice, calculates their total, and then prints:\n",
    "\n",
    "- The result of each die roll\n",
    "- The total of both dice\n",
    "\n",
    "It uses Python's `random` library to simulate the randomness of the dice rolls.\n"
   ]
  },
  {
   "cell_type": "code",
   "execution_count": 1,
   "metadata": {},
   "outputs": [
    {
     "name": "stdout",
     "output_type": "stream",
     "text": [
      "Dice have 6 sides each.\n",
      "First die: 5\n",
      "Second die: 4\n",
      "Total of two dice: 9\n"
     ]
    }
   ],
   "source": [
    "import random\n",
    "\n",
    "# Number of sides on each die to roll\n",
    "NUM_SIDES = 6\n",
    "\n",
    "def main():\n",
    "    # Roll die\n",
    "    die1 = random.randint(1, NUM_SIDES)\n",
    "    die2 = random.randint(1, NUM_SIDES)\n",
    "    \n",
    "    # Get their total\n",
    "    total = die1 + die2\n",
    "    \n",
    "    # Print the results\n",
    "    print(\"Dice have\", NUM_SIDES, \"sides each.\")\n",
    "    print(\"First die:\", die1)\n",
    "    print(\"Second die:\", die2)\n",
    "    print(\"Total of two dice:\", total)\n",
    "\n",
    "if __name__ == '__main__':\n",
    "    main()\n"
   ]
  }
 ],
 "metadata": {
  "kernelspec": {
   "display_name": "Python 3",
   "language": "python",
   "name": "python3"
  },
  "language_info": {
   "codemirror_mode": {
    "name": "ipython",
    "version": 3
   },
   "file_extension": ".py",
   "mimetype": "text/x-python",
   "name": "python",
   "nbconvert_exporter": "python",
   "pygments_lexer": "ipython3",
   "version": "3.13.2"
  }
 },
 "nbformat": 4,
 "nbformat_minor": 2
}
