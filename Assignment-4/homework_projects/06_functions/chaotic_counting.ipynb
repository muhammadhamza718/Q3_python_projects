{
 "cells": [
  {
   "cell_type": "markdown",
   "metadata": {},
   "source": [
    "## Chaotic Counting with Random Stopping\n",
    "\n",
    "### Problem Description:\n",
    "- We need to **count from 1 to 10**, but with a random stopping condition.\n",
    "- A function **done()** is provided, which returns `True` randomly with a probability **DONE_LIKELIHOOD**.\n",
    "- If **done() returns True**, the counting **stops immediately**, and the program prints `\"I'm done.\"`.\n",
    "\n",
    "### Example Run:\n",
    "\n",
    "I'm going to count until 10 or until I feel like stopping, whichever comes first. 1 2 3 I'm done.\n",
    "\n",
    "> **Note:** The stopping point is random, so the output will vary in different runs.\n",
    "\n",
    "### Approach:\n",
    "1. **Loop through numbers 1 to 10**.\n",
    "2. Before printing each number, **call `done()`** to check if we should stop.\n",
    "3. If `done()` **returns `True`**, use `return` to exit the function.\n",
    "4. If `done()` **returns `False`**, print the current number.\n",
    "5. Once counting is complete (or interrupted), **\"I'm done.\"** is printed.\n",
    "\n",
    "### Key Concepts Used:\n",
    "- **For Loops**\n",
    "- **Random Probability Functions**\n",
    "- **Early Exit using `return`**\n"
   ]
  },
  {
   "cell_type": "code",
   "execution_count": 13,
   "metadata": {},
   "outputs": [
    {
     "name": "stdout",
     "output_type": "stream",
     "text": [
      "I'm going to count until 10 or until I feel like stopping, whichever comes first.\n",
      "1\n",
      "2\n",
      "3\n",
      "4\n",
      "5\n",
      "6\n",
      "7\n",
      "8\n",
      "I'm done.\n"
     ]
    }
   ],
   "source": [
    "import random  # Import random module for probability-based stopping\n",
    "\n",
    "# Define the likelihood of stopping (change this value to adjust behavior)\n",
    "DONE_LIKELIHOOD = 0.3  \n",
    "\n",
    "def chaotic_counting():\n",
    "    \"\"\"\n",
    "    Prints numbers from 1 to 10, stopping randomly based on done().\n",
    "    \"\"\"\n",
    "    for i in range(1, 11):  # Loop from 1 to 10\n",
    "        if done():\n",
    "            return  # Stop execution and return to main()\n",
    "        print(i)\n",
    "\n",
    "def done():\n",
    "    \"\"\"\n",
    "    Returns True with a probability of DONE_LIKELIHOOD.\n",
    "    This simulates the random stopping condition.\n",
    "    \"\"\"\n",
    "    return random.random() < DONE_LIKELIHOOD  # 30% chance to return True\n",
    "\n",
    "def main():\n",
    "    print(\"I'm going to count until 10 or until I feel like stopping, whichever comes first.\")\n",
    "    chaotic_counting()  # Start counting\n",
    "    print(\"I'm done.\")  # Print final message after stopping\n",
    "\n",
    "# Execute the main function\n",
    "if __name__ == \"__main__\":\n",
    "    main()\n"
   ]
  }
 ],
 "metadata": {
  "kernelspec": {
   "display_name": "Python 3",
   "language": "python",
   "name": "python3"
  },
  "language_info": {
   "codemirror_mode": {
    "name": "ipython",
    "version": 3
   },
   "file_extension": ".py",
   "mimetype": "text/x-python",
   "name": "python",
   "nbconvert_exporter": "python",
   "pygments_lexer": "ipython3",
   "version": "3.13.2"
  }
 },
 "nbformat": 4,
 "nbformat_minor": 2
}
