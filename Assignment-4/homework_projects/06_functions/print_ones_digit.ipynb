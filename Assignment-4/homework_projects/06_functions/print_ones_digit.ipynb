{
 "cells": [
  {
   "cell_type": "markdown",
   "metadata": {},
   "source": [
    "## Extracting the Ones Digit of an Integer\n",
    "\n",
    "### Problem Description:\n",
    "- The program takes an **integer input** from the user.\n",
    "- It extracts the **ones digit** using the modulo (`%`) operator.\n",
    "- It prints the extracted ones digit in a formatted message.\n",
    "\n",
    "### Example:\n",
    "#### **Input:**\n",
    "Enter a number: 42\n",
    "\n",
    "#### **Processing:**\n",
    "- Ones digit of `42` = `42 % 10 = 2`\n",
    "#### **Output:**\n",
    "The ones digit is 2\n",
    "\n",
    "### **Approach**\n",
    "1. **User Input Handling**:\n",
    "   - Read an integer from the user using `input()`.\n",
    "2. **Extract the Ones Digit**:\n",
    "   - Use the modulo (`%`) operator: `num % 10`.\n",
    "3. **Print the Result**:\n",
    "   - Format the output message.\n",
    "\n",
    "### **Key Concepts Used:**\n",
    "- **Modulo Operator (`%`)**\n",
    "- **Integer Input Handling (`int(input())`)**\n",
    "- **Function Definition & Calling**"
   ]
  },
  {
   "cell_type": "code",
   "execution_count": 1,
   "metadata": {},
   "outputs": [
    {
     "name": "stdout",
     "output_type": "stream",
     "text": [
      "The ones digit is 5\n"
     ]
    }
   ],
   "source": [
    "def print_ones_digit(num: int):\n",
    "    \"\"\"\n",
    "    Prints the ones digit of the given number.\n",
    "    \"\"\"\n",
    "    print(\"The ones digit is\", num % 10)  # Extract and print the ones digit\n",
    "\n",
    "def main():\n",
    "    num = int(input(\"Enter a number: \"))  # Get an integer from the user\n",
    "    print_ones_digit(num)  # Call function to print ones digit\n",
    "\n",
    "if __name__ == '__main__':\n",
    "    main()"
   ]
  }
 ],
 "metadata": {
  "kernelspec": {
   "display_name": "Python 3",
   "language": "python",
   "name": "python3"
  },
  "language_info": {
   "codemirror_mode": {
    "name": "ipython",
    "version": 3
   },
   "file_extension": ".py",
   "mimetype": "text/x-python",
   "name": "python",
   "nbconvert_exporter": "python",
   "pygments_lexer": "ipython3",
   "version": "3.13.2"
  }
 },
 "nbformat": 4,
 "nbformat_minor": 2
}
