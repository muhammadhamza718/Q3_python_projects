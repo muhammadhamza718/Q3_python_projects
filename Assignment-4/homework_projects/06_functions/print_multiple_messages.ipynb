{
 "cells": [
  {
   "cell_type": "markdown",
   "metadata": {},
   "source": [
    "## Repeating a Message Multiple Times\n",
    "\n",
    "### Problem Description:\n",
    "- The program asks the user for a **message** (string).\n",
    "- It also asks the user for a **number of times** to repeat the message (integer).\n",
    "- It then prints the message **that many times**.\n",
    "\n",
    "### Example:\n",
    "#### Input:\n",
    "Please type a message: Hello! Enter a number of times to repeat your message: 6\n",
    "\n",
    "#### Output:\n",
    "Hello! Hello! Hello! Hello! Hello! Hello!\n",
    "\n",
    "### Approach:\n",
    "1. **User Input**:\n",
    "   - Get a string (`message`) from the user.\n",
    "   - Get an integer (`repeats`) from the user.\n",
    "2. **Loop through the range of `repeats`**:\n",
    "   - Print the message each time inside the loop.\n",
    "\n",
    "### Key Concepts Used:\n",
    "- **Loops (`for` loop)**\n",
    "- **User Input (`input()`)**\n",
    "- **Functions**"
   ]
  },
  {
   "cell_type": "code",
   "execution_count": 1,
   "metadata": {},
   "outputs": [
    {
     "name": "stdout",
     "output_type": "stream",
     "text": [
      "My name is Hamza\n",
      "My name is Hamza\n",
      "My name is Hamza\n",
      "My name is Hamza\n",
      "My name is Hamza\n",
      "My name is Hamza\n",
      "My name is Hamza\n",
      "My name is Hamza\n"
     ]
    }
   ],
   "source": [
    "def print_multiple(message: str, repeats: int):\n",
    "    \"\"\"\n",
    "    Prints the given message 'repeats' number of times.\n",
    "    \"\"\"\n",
    "    for i in range(repeats):  # Loop 'repeats' times\n",
    "        print(message)  # Print the message\n",
    "\n",
    "def main():\n",
    "    message = input(\"Please type a message: \")  # Get message from user\n",
    "    repeats = int(input(\"Enter a number of times to repeat your message: \"))  # Get repeat count from user\n",
    "    print_multiple(message, repeats)  # Call function to print the message\n",
    "\n",
    "if __name__ == '__main__':\n",
    "    main()"
   ]
  }
 ],
 "metadata": {
  "kernelspec": {
   "display_name": "Python 3",
   "language": "python",
   "name": "python3"
  },
  "language_info": {
   "codemirror_mode": {
    "name": "ipython",
    "version": 3
   },
   "file_extension": ".py",
   "mimetype": "text/x-python",
   "name": "python",
   "nbconvert_exporter": "python",
   "pygments_lexer": "ipython3",
   "version": "3.13.2"
  }
 },
 "nbformat": 4,
 "nbformat_minor": 2
}
