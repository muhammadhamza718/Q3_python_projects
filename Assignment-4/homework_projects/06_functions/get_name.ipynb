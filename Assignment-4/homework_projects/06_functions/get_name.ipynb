{
 "cells": [
  {
   "cell_type": "markdown",
   "metadata": {},
   "source": [
    "## Get and Print a Name\n",
    "\n",
    "### Problem Description:\n",
    "1. **Define a function `get_name()`**:\n",
    "   - This function **returns a fixed name** (e.g., `\"Sophia\"`).\n",
    "   \n",
    "2. **Greeting the User:**\n",
    "   - The program calls `get_name()` to get the name.\n",
    "   - The program then **prints a greeting message** using the retrieved name.\n",
    "\n",
    "### Example Run:\n",
    "Howdy Sophia ! 🤠\n",
    "\n",
    "### Approach:\n",
    "1. **Define the function `get_name()`**:\n",
    "   - Returns a **hardcoded name** `\"Sophia\"`.\n",
    "   \n",
    "2. **Use `main()`** to:\n",
    "   - **Call `get_name()`** and store the returned name in a variable.\n",
    "   - **Print a greeting message** with the name.\n",
    "\n",
    "### Key Concepts Used:\n",
    "- **Functions**\n",
    "- **String Manipulation**\n",
    "- **Printing Output**"
   ]
  },
  {
   "cell_type": "code",
   "execution_count": 1,
   "metadata": {},
   "outputs": [
    {
     "name": "stdout",
     "output_type": "stream",
     "text": [
      "Howdy Sophia ! 🤠\n"
     ]
    }
   ],
   "source": [
    "def get_name():\n",
    "    \"\"\"\n",
    "    Returns a hardcoded name.\n",
    "    \"\"\"\n",
    "    return \"Sophia\"  # Change this if needed\n",
    "\n",
    "def main():\n",
    "    name = get_name()  # Call function to get the name\n",
    "    print(\"Howdy\", name, \"! 🤠\")  # Print greeting message\n",
    "\n",
    "if __name__ == '__main__':\n",
    "    main()\n"
   ]
  }
 ],
 "metadata": {
  "kernelspec": {
   "display_name": "Python 3",
   "language": "python",
   "name": "python3"
  },
  "language_info": {
   "codemirror_mode": {
    "name": "ipython",
    "version": 3
   },
   "file_extension": ".py",
   "mimetype": "text/x-python",
   "name": "python",
   "nbconvert_exporter": "python",
   "pygments_lexer": "ipython3",
   "version": "3.13.2"
  }
 },
 "nbformat": 4,
 "nbformat_minor": 2
}
