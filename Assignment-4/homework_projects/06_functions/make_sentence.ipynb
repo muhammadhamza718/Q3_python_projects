{
 "cells": [
  {
   "cell_type": "markdown",
   "metadata": {},
   "source": [
    "## Generating Sentences Based on Word Type\n",
    "\n",
    "### Problem Description:\n",
    "- The program takes a **word** as input.\n",
    "- It asks the user to classify the word as a **noun, verb, or adjective** using numbers:\n",
    "  - **0 for noun**\n",
    "  - **1 for verb**\n",
    "  - **2 for adjective**\n",
    "- It then prints a sentence using that word in a predefined **sentence template**.\n",
    "\n",
    "### Example:\n",
    "#### **Input:**\n",
    "Please type a noun, verb, or adjective: groovy Is this a noun, verb, or adjective? Type 0 for noun, 1 for verb, 2 for adjective: 2\n",
    "\n",
    "#### **Output:**\n",
    "Looking out my window, the sky is big and groovy!\n",
    "\n",
    "### **Sentence Templates**\n",
    "| Part of Speech | Sentence Template |\n",
    "|---------------|----------------|\n",
    "| 0 (Noun) | \"I am excited to add this ____ to my vast collection of them!\" |\n",
    "| 1 (Verb) | \"It's so nice outside today it makes me want to ____!\" |\n",
    "| 2 (Adjective) | \"Looking out my window, the sky is big and ____!\" |\n",
    "\n",
    "### Approach:\n",
    "1. **User Input**:\n",
    "   - Get a word from the user.\n",
    "   - Get the part of speech as an integer (`0, 1, or 2`).\n",
    "2. **Use Conditional Statements (`if-elif-else`)**:\n",
    "   - Print a sentence using the correct template.\n",
    "3. **Handle Invalid Input**:\n",
    "   - If the user enters a number other than `0, 1, or 2`, display an error message.\n",
    "\n",
    "### **Key Concepts Used:**\n",
    "- **Conditional Statements (`if-elif-else`)**\n",
    "- **String Formatting**\n",
    "- **User Input Handling (`input()`)**"
   ]
  },
  {
   "cell_type": "code",
   "execution_count": 1,
   "metadata": {},
   "outputs": [
    {
     "name": "stdout",
     "output_type": "stream",
     "text": [
      "Is this a noun, verb, or adjective?\n",
      "I am excited to add this Apple to my vast collection of them!\n"
     ]
    }
   ],
   "source": [
    "def make_sentence(word: str, part_of_speech: int):\n",
    "    \"\"\"\n",
    "    Prints a sentence based on the word type (noun, verb, adjective).\n",
    "    \"\"\"\n",
    "    if part_of_speech == 0:\n",
    "        print(f\"I am excited to add this {word} to my vast collection of them!\")\n",
    "    elif part_of_speech == 1:\n",
    "        print(f\"It's so nice outside today it makes me want to {word}!\")\n",
    "    elif part_of_speech == 2:\n",
    "        print(f\"Looking out my window, the sky is big and {word}!\")\n",
    "    else:\n",
    "        print(\"Part of speech must be 0, 1, or 2! Can't make a sentence.\")\n",
    "\n",
    "def main():\n",
    "    word = input(\"Please type a noun, verb, or adjective: \")  # Get the word from user\n",
    "    print(\"Is this a noun, verb, or adjective?\")\n",
    "    part_of_speech = int(input(\"Type 0 for noun, 1 for verb, 2 for adjective: \"))  # Get part of speech\n",
    "    make_sentence(word, part_of_speech)  # Call function to generate sentence\n",
    "\n",
    "if __name__ == '__main__':\n",
    "    main()"
   ]
  }
 ],
 "metadata": {
  "kernelspec": {
   "display_name": "Python 3",
   "language": "python",
   "name": "python3"
  },
  "language_info": {
   "codemirror_mode": {
    "name": "ipython",
    "version": 3
   },
   "file_extension": ".py",
   "mimetype": "text/x-python",
   "name": "python",
   "nbconvert_exporter": "python",
   "pygments_lexer": "ipython3",
   "version": "3.13.2"
  }
 },
 "nbformat": 4,
 "nbformat_minor": 2
}
