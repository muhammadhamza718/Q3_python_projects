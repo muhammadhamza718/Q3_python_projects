{
 "cells": [
  {
   "cell_type": "markdown",
   "metadata": {},
   "source": [
    "## Doubling a Number\n",
    "\n",
    "### Problem Description:\n",
    "1. **User Input:**\n",
    "   - The program asks the user to **input a number**.\n",
    "   \n",
    "2. **Doubling the Number:**\n",
    "   - The program calls the `double(num)` function to **multiply the number by 2**.\n",
    "   - The result is then printed.\n",
    "\n",
    "### Example Run:\n",
    "Enter a number: 2 Double that is 4\n",
    "\n",
    "\n",
    "### Approach:\n",
    "1. **Define a function `double(num)`** that returns `num * 2`.\n",
    "2. **Use `input()`** to get a number from the user.\n",
    "3. **Convert input to an integer (`int`)** before passing it to the function.\n",
    "4. **Print the doubled value**.\n",
    "\n",
    "### Key Concepts Used:\n",
    "- **Functions**\n",
    "- **User Input Handling**\n",
    "- **Mathematical Operations**\n"
   ]
  },
  {
   "cell_type": "code",
   "execution_count": 2,
   "metadata": {},
   "outputs": [
    {
     "name": "stdout",
     "output_type": "stream",
     "text": [
      "Double that is 32\n"
     ]
    }
   ],
   "source": [
    "def double(num: int):\n",
    "    \"\"\"\n",
    "    Returns double the given number.\n",
    "    \"\"\"\n",
    "    return num * 2  # Multiply by 2\n",
    "\n",
    "def main():\n",
    "    num = int(input(\"Enter a number: \"))  # Get input from user\n",
    "    num_times_2 = double(num)  # Call the function to double the number\n",
    "    print(\"Double that is\", num_times_2)  # Print the result\n",
    "\n",
    "if __name__ == '__main__':\n",
    "    main()\n"
   ]
  }
 ],
 "metadata": {
  "kernelspec": {
   "display_name": "Python 3",
   "language": "python",
   "name": "python3"
  },
  "language_info": {
   "codemirror_mode": {
    "name": "ipython",
    "version": 3
   },
   "file_extension": ".py",
   "mimetype": "text/x-python",
   "name": "python",
   "nbconvert_exporter": "python",
   "pygments_lexer": "ipython3",
   "version": "3.13.2"
  }
 },
 "nbformat": 4,
 "nbformat_minor": 2
}
