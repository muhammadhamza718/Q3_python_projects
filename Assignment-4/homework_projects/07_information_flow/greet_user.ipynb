{
 "cells": [
  {
   "cell_type": "markdown",
   "metadata": {},
   "source": [
    "## Greeting a User with a Helper Function\n",
    "\n",
    "### **Problem Description:**\n",
    "- The program asks for the **user's name**.\n",
    "- It then **greets the user** using the `greet(name)` function.\n",
    "\n",
    "### **Example Run:**\n",
    "#### **Input:**\n",
    "What's your name? Sophia\n",
    "\n",
    "#### **Output:**\n",
    "Greetings Sophia!\n",
    "\n",
    "---\n",
    "\n",
    "### **Approach**\n",
    "1. **User Input Handling**:\n",
    "   - Read the user's name using `input()`.\n",
    "2. **Call the Helper Function**:\n",
    "   - Pass the name to `greet(name)`, which returns a formatted greeting message.\n",
    "3. **Display the Greeting**:\n",
    "   - Print the returned message.\n",
    "\n",
    "### **Key Concepts Used:**\n",
    "- **Function Definition (`def function_name()`)**\n",
    "- **String Concatenation (`+` for joining strings)**\n",
    "- **User Input Handling (`input()`)**"
   ]
  },
  {
   "cell_type": "code",
   "execution_count": 1,
   "metadata": {},
   "outputs": [
    {
     "name": "stdout",
     "output_type": "stream",
     "text": [
      "Greetings hamza!\n"
     ]
    }
   ],
   "source": [
    "def greet(name: str) -> str:\n",
    "    \"\"\"\n",
    "    Returns a greeting message for the given name.\n",
    "    \"\"\"\n",
    "    return \"Greetings \" + name + \"!\"\n",
    "\n",
    "def main():\n",
    "    name = input(\"What's your name? \")  # Get user input\n",
    "    print(greet(name))  # Call the greet function and print the result\n",
    "\n",
    "if __name__ == '__main__':\n",
    "    main()"
   ]
  }
 ],
 "metadata": {
  "kernelspec": {
   "display_name": "Python 3",
   "language": "python",
   "name": "python3"
  },
  "language_info": {
   "codemirror_mode": {
    "name": "ipython",
    "version": 3
   },
   "file_extension": ".py",
   "mimetype": "text/x-python",
   "name": "python",
   "nbconvert_exporter": "python",
   "pygments_lexer": "ipython3",
   "version": "3.13.2"
  }
 },
 "nbformat": 4,
 "nbformat_minor": 2
}
