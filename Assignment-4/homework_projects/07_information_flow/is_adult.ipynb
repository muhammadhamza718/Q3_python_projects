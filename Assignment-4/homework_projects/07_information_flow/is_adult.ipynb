{
 "cells": [
  {
   "cell_type": "markdown",
   "id": "5aabcfa7",
   "metadata": {},
   "source": [
    "07_information_flow## Checking if a Person is an Adult\n",
    "\n",
    "### Problem Description:\n",
    "- The program takes an **age input** from the user.\n",
    "- It checks if the age is **greater than or equal to** the defined `ADULT_AGE`.\n",
    "- If the person is an adult, it returns `True`; otherwise, it returns `False`.\n",
    "\n",
    "### Example:\n",
    "#### **Input:**\n",
    "```\n",
    "How old is this person?: 35\n",
    "```\n",
    "#### **Processing:**\n",
    "- `35 >= 18` → `True`\n",
    "#### **Output:**\n",
    "```\n",
    "True\n",
    "```\n",
    "\n",
    "#### **Input:**\n",
    "```\n",
    "How old is this person?: 7\n",
    "```\n",
    "#### **Processing:**\n",
    "- `7 >= 18` → `False`\n",
    "#### **Output:**\n",
    "```\n",
    "False\n",
    "```\n",
    "\n",
    "### **Approach**\n",
    "1. **Define `ADULT_AGE`**: Set the minimum adult age as `18`.\n",
    "2. **User Input Handling**: Read the user’s age.\n",
    "3. **Check Adult Condition**:\n",
    "   - If `age >= ADULT_AGE`, return `True`.\n",
    "   - Otherwise, return `False`.\n",
    "4. **Print the Result**.\n",
    "\n",
    "### **Key Concepts Used:**\n",
    "- **Comparison Operators (`>=`)**\n",
    "- **Conditional Statements (`if`-`else`)**\n",
    "- **Function Definition & Return Values**"
   ]
  },
  {
   "cell_type": "code",
   "execution_count": 1,
   "id": "fb238897",
   "metadata": {},
   "outputs": [
    {
     "name": "stdout",
     "output_type": "stream",
     "text": [
      "True\n"
     ]
    }
   ],
   "source": [
    "ADULT_AGE = 18  # Minimum age to be considered an adult\n",
    "\n",
    "def is_adult(age: int) -> bool:\n",
    "    \"\"\"Returns True if the age is greater than or equal to ADULT_AGE, otherwise False.\"\"\"\n",
    "    return age >= ADULT_AGE\n",
    "\n",
    "def main():\n",
    "    age = int(input(\"How old is this person?: \"))  # Get user input and convert to integer\n",
    "    print(is_adult(age))  # Print the result of the check\n",
    "\n",
    "if __name__ == \"__main__\":\n",
    "    main()"
   ]
  }
 ],
 "metadata": {
  "kernelspec": {
   "display_name": "Python 3",
   "language": "python",
   "name": "python3"
  },
  "language_info": {
   "codemirror_mode": {
    "name": "ipython",
    "version": 3
   },
   "file_extension": ".py",
   "mimetype": "text/x-python",
   "name": "python",
   "nbconvert_exporter": "python",
   "pygments_lexer": "ipython3",
   "version": "3.13.2"
  }
 },
 "nbformat": 4,
 "nbformat_minor": 5
}
