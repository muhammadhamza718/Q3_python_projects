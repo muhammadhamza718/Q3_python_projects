{
 "cells": [
  {
   "cell_type": "markdown",
   "metadata": {},
   "source": [
    "## Printing the First 20 Even Numbers\n",
    "\n",
    "### Explanation:\n",
    "\n",
    "- The sequence of even numbers starts from ***0***.\n",
    "- Each even number is obtained by adding ***2*** to the previous one.\n",
    "- Instead of printing each number manually, we use a ***loop*** to automate the process.\n",
    "- The pattern of even numbers follows:\n",
    "0, 2, 4, 6, 8, 10, 12, 14, 16, 18, 20, 22, 24, 26, 28, 30, 32, 34, 36, 38\n",
    "- A ***for loop*** is used to generate these numbers:\n",
    "- The loop runs ***20 times***.\n",
    "- The loop variable `i` starts from `0` and goes up to `19`.\n",
    "- Each iteration prints `i * 2`, generating the required even numbers.\n",
    "\n",
    "This approach ensures efficiency and avoids redundant code."
   ]
  },
  {
   "cell_type": "code",
   "execution_count": 1,
   "metadata": {},
   "outputs": [
    {
     "name": "stdout",
     "output_type": "stream",
     "text": [
      "0\n",
      "2\n",
      "4\n",
      "6\n",
      "8\n",
      "10\n",
      "12\n",
      "14\n",
      "16\n",
      "18\n",
      "20\n",
      "22\n",
      "24\n",
      "26\n",
      "28\n",
      "30\n",
      "32\n",
      "34\n",
      "36\n",
      "38\n"
     ]
    }
   ],
   "source": [
    "def main():\n",
    "    # Loop runs 20 times, generating the first 20 even numbers\n",
    "    for i in range(20):\n",
    "        print(i * 2)  # Multiplying index by 2 gives the even number\n",
    "   \n",
    "# Call the main function when the script runs\n",
    "if __name__ == \"__main__\":\n",
    "    main()"
   ]
  }
 ],
 "metadata": {
  "kernelspec": {
   "display_name": "Python 3",
   "language": "python",
   "name": "python3"
  },
  "language_info": {
   "codemirror_mode": {
    "name": "ipython",
    "version": 3
   },
   "file_extension": ".py",
   "mimetype": "text/x-python",
   "name": "python",
   "nbconvert_exporter": "python",
   "pygments_lexer": "ipython3",
   "version": "3.13.2"
  }
 },
 "nbformat": 4,
 "nbformat_minor": 2
}
