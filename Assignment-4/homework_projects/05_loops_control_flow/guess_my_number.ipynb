{
 "cells": [
  {
   "cell_type": "markdown",
   "metadata": {},
   "source": [
    "## Problem Statement\n",
    "\n",
    "Guess My Number\n",
    "\n",
    "I am thinking of a number between 0 and 99...\n",
    "Enter a guess: 50\n",
    "Your guess is too high\n",
    "\n",
    "Enter a new number: 25\n",
    "Your guess is too low\n",
    "\n",
    "Enter a new number: 40\n",
    "Your guess is too low\n",
    "\n",
    "Enter a new number: 45\n",
    "Your guess is too low\n",
    "\n",
    "Enter a new number: 48\n",
    "Congrats! The number was: 48"
   ]
  },
  {
   "cell_type": "code",
   "execution_count": 5,
   "metadata": {},
   "outputs": [
    {
     "name": "stdout",
     "output_type": "stream",
     "text": [
      "I am thinking of a number between 1 and 99...\n",
      "Your guess is too low\n",
      "\n",
      "Your guess is too low\n",
      "\n",
      "Your guess is too low\n",
      "\n",
      "Your guess is too low\n",
      "\n",
      "Your guess is too high\n",
      "\n",
      "Your guess is too high\n",
      "\n",
      "Your guess is too low\n",
      "\n",
      "Your guess is too high\n",
      "\n",
      "Your guess is too high\n",
      "\n",
      "Congrats! The number was: 91\n"
     ]
    }
   ],
   "source": [
    "import random\n",
    "\n",
    "def main():\n",
    "    # Generate the secret number at random!\n",
    "    secret_number = random.randint(1, 99)\n",
    "    \n",
    "    print(\"I am thinking of a number between 1 and 99...\")\n",
    "    \n",
    "    # Get user's guess\n",
    "    guess = int(input(\"Enter a guess: \"))\n",
    "    \n",
    "    # Loop until the user guesses correctly\n",
    "    while guess != secret_number:\n",
    "        if guess < secret_number:\n",
    "            print(\"Your guess is too low\")\n",
    "        else:\n",
    "            print(\"Your guess is too high\")\n",
    "            \n",
    "        print()  # Print an empty line to separate guesses\n",
    "        guess = int(input(\"Enter a new guess: \"))  # Get a new guess\n",
    "        \n",
    "    print(\"Congrats! The number was: \" + str(secret_number))\n",
    "    \n",
    "if __name__ == '__main__':\n",
    "    main()"
   ]
  }
 ],
 "metadata": {
  "kernelspec": {
   "display_name": "Python 3",
   "language": "python",
   "name": "python3"
  },
  "language_info": {
   "codemirror_mode": {
    "name": "ipython",
    "version": 3
   },
   "file_extension": ".py",
   "mimetype": "text/x-python",
   "name": "python",
   "nbconvert_exporter": "python",
   "pygments_lexer": "ipython3",
   "version": "3.13.2"
  }
 },
 "nbformat": 4,
 "nbformat_minor": 2
}
