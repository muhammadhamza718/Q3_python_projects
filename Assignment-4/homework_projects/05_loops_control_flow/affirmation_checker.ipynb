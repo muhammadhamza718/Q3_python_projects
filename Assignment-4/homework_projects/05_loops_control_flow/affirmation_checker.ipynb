{
 "cells": [
  {
   "cell_type": "markdown",
   "metadata": {},
   "source": [
    "## Affirmation Checker Program\n",
    "\n",
    "### Explanation:\n",
    "\n",
    "- The goal of this program is to repeatedly prompt the user to type a ***specific affirmation*** until they type it correctly.\n",
    "- The affirmation used is:\n",
    "\"I am capable of doing anything I put my mind to.\"\n",
    "\n",
    "- **How the program works:**\n",
    "1. It displays the affirmation and asks the user to type it.\n",
    "2. If the user input **does not match**, the program informs them and prompts them again.\n",
    "3. This loop continues until the user types the correct affirmation.\n",
    "4. Once the correct affirmation is entered, a success message is displayed.\n",
    "\n",
    "- **Key concepts used:**\n",
    "- **String comparison** to check if the input matches the affirmation.\n",
    "- **While loop** to keep prompting the user until they type it correctly.\n",
    "- **User input handling** using `input()`.\n",
    "\n",
    "This program serves as a small motivational tool while reinforcing **string handling and loops*"
   ]
  },
  {
   "cell_type": "code",
   "execution_count": 1,
   "metadata": {},
   "outputs": [
    {
     "name": "stdout",
     "output_type": "stream",
     "text": [
      "Please type the following affirmation: I am capable of doing anything I put my mind to.\n",
      "That's right! :)\n"
     ]
    }
   ],
   "source": [
    "AFFIRMATION = \"I am capable of doing anything I put my mind to.\"\n",
    "\n",
    "def main():\n",
    "    print(\"Please type the following affirmation: \" + AFFIRMATION)\n",
    "\n",
    "    user_feedback = input()  # Get user's input\n",
    "    while user_feedback != AFFIRMATION:  # Loop until input matches the affirmation\n",
    "        print(\"That was not the affirmation.\")\n",
    "        print(\"Please type the following affirmation: \" + AFFIRMATION)\n",
    "        user_feedback = input()\n",
    "\n",
    "    print(\"That's right! :)\")  # Success message\n",
    "\n",
    "# Execute the main function\n",
    "if __name__ == '__main__':\n",
    "    main()\n"
   ]
  }
 ],
 "metadata": {
  "kernelspec": {
   "display_name": "Python 3",
   "language": "python",
   "name": "python3"
  },
  "language_info": {
   "codemirror_mode": {
    "name": "ipython",
    "version": 3
   },
   "file_extension": ".py",
   "mimetype": "text/x-python",
   "name": "python",
   "nbconvert_exporter": "python",
   "pygments_lexer": "ipython3",
   "version": "3.13.2"
  }
 },
 "nbformat": 4,
 "nbformat_minor": 2
}
