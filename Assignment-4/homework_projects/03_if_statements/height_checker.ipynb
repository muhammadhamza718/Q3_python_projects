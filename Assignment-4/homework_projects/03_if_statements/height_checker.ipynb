{
 "cells": [
  {
   "cell_type": "markdown",
   "metadata": {},
   "source": [
    "# Height Requirement Checker\n",
    "\n",
    "## Problem Statement\n",
    "Write a program that asks the user **how tall they are** and prints whether or not they meet a **minimum height requirement**.\n",
    "\n",
    "### Amusement Park Height Rules\n",
    "Many amusement park rides have **minimum height requirements** for safety reasons. In this program, assume that the **minimum height is 50 units** (you can choose any height unit).\n",
    "\n",
    "### Sample Runs:\n",
    "#### Example 1:"
   ]
  },
  {
   "cell_type": "code",
   "execution_count": 1,
   "metadata": {},
   "outputs": [
    {
     "name": "stdout",
     "output_type": "stream",
     "text": [
      "You're not tall enough to ride, but maybe next year!\n"
     ]
    }
   ],
   "source": [
    "# Define the minimum height required\n",
    "MINIMUM_HEIGHT: int = 50  # in arbitrary units\n",
    "\n",
    "def main():\n",
    "    \"\"\"\n",
    "    Asks the user for their height and determines if they are tall enough to ride.\n",
    "    \"\"\"\n",
    "    height = float(input(\"How tall are you? \"))\n",
    "    \n",
    "    if height >= MINIMUM_HEIGHT:\n",
    "        print(\"You're tall enough to ride!\")\n",
    "    else:\n",
    "        print(\"You're not tall enough to ride, but maybe next year!\")\n",
    "\n",
    "# Required function call for execution\n",
    "if __name__ == '__main__':\n",
    "    main()\n"
   ]
  }
 ],
 "metadata": {
  "kernelspec": {
   "display_name": "Python 3",
   "language": "python",
   "name": "python3"
  },
  "language_info": {
   "codemirror_mode": {
    "name": "ipython",
    "version": 3
   },
   "file_extension": ".py",
   "mimetype": "text/x-python",
   "name": "python",
   "nbconvert_exporter": "python",
   "pygments_lexer": "ipython3",
   "version": "3.13.2"
  }
 },
 "nbformat": 4,
 "nbformat_minor": 2
}
