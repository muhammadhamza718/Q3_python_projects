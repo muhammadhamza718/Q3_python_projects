{
 "cells": [
  {
   "cell_type": "markdown",
   "metadata": {},
   "source": [
    "# Generate 10 Random Numbers\n",
    "\n",
    "## Problem Statement\n",
    "Write a program that prints **10 random numbers** in the range **1 to 100**.\n",
    "\n",
    "Each time you run the program, it should generate **different numbers**.\n",
    "\n",
    "### Example Runs:\n",
    "#### Example 1:"
   ]
  },
  {
   "cell_type": "code",
   "execution_count": 1,
   "metadata": {},
   "outputs": [
    {
     "name": "stdout",
     "output_type": "stream",
     "text": [
      "88 46 62 1 64 64 2 5 80 1\n"
     ]
    }
   ],
   "source": [
    "import random\n",
    "\n",
    "# Define constants\n",
    "N_NUMBERS: int = 10  # Number of random numbers to generate\n",
    "MIN_VALUE: int = 1    # Minimum value in range\n",
    "MAX_VALUE: int = 100  # Maximum value in range\n",
    "\n",
    "def main():\n",
    "    \"\"\"\n",
    "    Generates and prints 10 random numbers in the range 1 to 100.\n",
    "    \"\"\"\n",
    "    random_numbers = [random.randint(MIN_VALUE, MAX_VALUE) for _ in range(N_NUMBERS)]\n",
    "    print(\" \".join(map(str, random_numbers)))  # Print numbers in a single line\n",
    "\n",
    "# Required function call for execution\n",
    "if __name__ == '__main__':\n",
    "    main()\n"
   ]
  }
 ],
 "metadata": {
  "kernelspec": {
   "display_name": "Python 3",
   "language": "python",
   "name": "python3"
  },
  "language_info": {
   "codemirror_mode": {
    "name": "ipython",
    "version": 3
   },
   "file_extension": ".py",
   "mimetype": "text/x-python",
   "name": "python",
   "nbconvert_exporter": "python",
   "pygments_lexer": "ipython3",
   "version": "3.13.2"
  }
 },
 "nbformat": 4,
 "nbformat_minor": 2
}
