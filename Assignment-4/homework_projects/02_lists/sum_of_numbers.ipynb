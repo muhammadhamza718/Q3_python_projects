{
 "cells": [
  {
   "cell_type": "markdown",
   "metadata": {},
   "source": [
    "# Sum of Numbers in a List\n",
    "This program takes a list of numbers and returns the sum of those numbers.\n",
    "\n",
    "It defines a function called `add_many_numbers()` which calculates the total sum by iterating through the list and adding each number.\n",
    "\n",
    "Example run:"
   ]
  },
  {
   "cell_type": "code",
   "execution_count": 1,
   "metadata": {},
   "outputs": [
    {
     "name": "stdout",
     "output_type": "stream",
     "text": [
      "15\n"
     ]
    }
   ],
   "source": [
    "def add_many_numbers(numbers) -> int:\n",
    "    \"\"\"\n",
    "    Takes in a list of numbers and returns the sum of those numbers.\n",
    "    \"\"\"\n",
    "    total_so_far = 0\n",
    "    for number in numbers:\n",
    "        total_so_far += number\n",
    "\n",
    "    return total_so_far\n",
    "\n",
    "def main():\n",
    "    numbers = [1, 2, 3, 4, 5]  # Make a list of numbers\n",
    "    sum_of_numbers = add_many_numbers(numbers)  # Find the sum of the list\n",
    "    print(sum_of_numbers)  # Print out the sum above\n",
    "\n",
    "if __name__ == '__main__':\n",
    "    main()"
   ]
  }
 ],
 "metadata": {
  "kernelspec": {
   "display_name": "Python 3",
   "language": "python",
   "name": "python3"
  },
  "language_info": {
   "codemirror_mode": {
    "name": "ipython",
    "version": 3
   },
   "file_extension": ".py",
   "mimetype": "text/x-python",
   "name": "python",
   "nbconvert_exporter": "python",
   "pygments_lexer": "ipython3",
   "version": "3.13.2"
  }
 },
 "nbformat": 4,
 "nbformat_minor": 2
}
