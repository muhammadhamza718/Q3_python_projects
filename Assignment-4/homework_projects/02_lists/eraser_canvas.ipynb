{
 "cells": [
  {
   "cell_type": "markdown",
   "metadata": {},
   "source": [
    "# Canvas Eraser Tool\n",
    "\n",
    "This program implements an interactive eraser tool on a graphical canvas.\n",
    "\n",
    "## **How it Works**\n",
    "- The canvas consists of a grid of blue cells.\n",
    "- An eraser tool appears when the user clicks.\n",
    "- Dragging the eraser over the grid changes the cells to white, mimicking an erasing effect.\n",
    "\n",
    "## **Key Features**\n",
    "- Uses a `Canvas` object for rendering.\n",
    "- Listens for mouse movement to erase grid cells.\n",
    "- Implements an interactive loop for real-time erasing.\n",
    "\n",
    "---\n"
   ]
  },
  {
   "cell_type": "code",
   "execution_count": 2,
   "metadata": {},
   "outputs": [],
   "source": [
    "from tkinter import Tk, Canvas\n",
    "\n",
    "# Constants\n",
    "CANVAS_WIDTH = 400\n",
    "CANVAS_HEIGHT = 400\n",
    "CELL_SIZE = 40\n",
    "ERASER_SIZE = 20\n",
    "\n",
    "class EraserCanvas:\n",
    "    def __init__(self, root):\n",
    "        self.canvas = Canvas(root, width=CANVAS_WIDTH, height=CANVAS_HEIGHT, bg=\"white\")\n",
    "        self.canvas.pack()\n",
    "        self.create_grid()\n",
    "        self.eraser = None\n",
    "        self.canvas.bind(\"<Button-1>\", self.create_eraser)\n",
    "        self.canvas.bind(\"<B1-Motion>\", self.erase)\n",
    "\n",
    "    def create_grid(self):\n",
    "        \"\"\"Creates a grid of blue squares on the canvas.\"\"\"\n",
    "        for row in range(0, CANVAS_HEIGHT, CELL_SIZE):\n",
    "            for col in range(0, CANVAS_WIDTH, CELL_SIZE):\n",
    "                self.canvas.create_rectangle(col, row, col + CELL_SIZE, row + CELL_SIZE, fill=\"blue\", outline=\"black\")\n",
    "\n",
    "    def create_eraser(self, event):\n",
    "        \"\"\"Creates an eraser at the mouse click location.\"\"\"\n",
    "        self.eraser = self.canvas.create_rectangle(\n",
    "            event.x, event.y, event.x + ERASER_SIZE, event.y + ERASER_SIZE, fill=\"pink\"\n",
    "        )\n",
    "\n",
    "    def erase(self, event):\n",
    "        \"\"\"Erases blue squares by setting them to white.\"\"\"\n",
    "        if self.eraser:\n",
    "            self.canvas.moveto(self.eraser, event.x, event.y)\n",
    "            overlapping_items = self.canvas.find_overlapping(event.x, event.y, event.x + ERASER_SIZE, event.y + ERASER_SIZE)\n",
    "            for item in overlapping_items:\n",
    "                if item != self.eraser:\n",
    "                    self.canvas.itemconfig(item, fill=\"white\")\n",
    "\n",
    "# Run the application\n",
    "root = Tk()\n",
    "root.title(\"Eraser Canvas\")\n",
    "app = EraserCanvas(root)\n",
    "root.mainloop()"
   ]
  }
 ],
 "metadata": {
  "kernelspec": {
   "display_name": "Python 3",
   "language": "python",
   "name": "python3"
  },
  "language_info": {
   "codemirror_mode": {
    "name": "ipython",
    "version": 3
   },
   "file_extension": ".py",
   "mimetype": "text/x-python",
   "name": "python",
   "nbconvert_exporter": "python",
   "pygments_lexer": "ipython3",
   "version": "3.13.2"
  }
 },
 "nbformat": 4,
 "nbformat_minor": 2
}
