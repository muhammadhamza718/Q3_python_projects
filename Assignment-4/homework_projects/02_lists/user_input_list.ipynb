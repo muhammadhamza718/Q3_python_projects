{
 "cells": [
  {
   "cell_type": "markdown",
   "metadata": {},
   "source": [
    "# Getting User Input and Storing in a List\n",
    "\n",
    "## Problem Statement  \n",
    "This program continuously asks the user to enter values and adds them to a list.  \n",
    "When the user presses enter without typing anything, the final list is printed.  \n",
    "\n",
    "---\n"
   ]
  },
  {
   "cell_type": "code",
   "execution_count": 1,
   "metadata": {},
   "outputs": [
    {
     "name": "stdout",
     "output_type": "stream",
     "text": [
      "Here's the list: ['56', '56', '84', '24', '32']\n"
     ]
    }
   ],
   "source": [
    "def get_user_list():\n",
    "    \"\"\"\n",
    "    Continuously prompts the user for input and stores values in a list.\n",
    "    Stops when the user presses enter without input.\n",
    "    \"\"\"\n",
    "    lst = []\n",
    "    val = input(\"Enter a value: \")  # Get an initial value\n",
    "    \n",
    "    while val:  # While input is not empty\n",
    "        lst.append(val)\n",
    "        val = input(\"Enter a value: \")  # Get the next value\n",
    "        \n",
    "    return lst\n",
    "\n",
    "def main():\n",
    "    user_list = get_user_list()\n",
    "    print(\"Here's the list:\", user_list)  # Print the collected list\n",
    "\n",
    "# Run the function\n",
    "if __name__ == '__main__':\n",
    "    main()\n"
   ]
  }
 ],
 "metadata": {
  "kernelspec": {
   "display_name": "Python 3",
   "language": "python",
   "name": "python3"
  },
  "language_info": {
   "codemirror_mode": {
    "name": "ipython",
    "version": 3
   },
   "file_extension": ".py",
   "mimetype": "text/x-python",
   "name": "python",
   "nbconvert_exporter": "python",
   "pygments_lexer": "ipython3",
   "version": "3.13.2"
  }
 },
 "nbformat": 4,
 "nbformat_minor": 2
}
