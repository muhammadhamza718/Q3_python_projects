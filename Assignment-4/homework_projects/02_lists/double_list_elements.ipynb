{
 "cells": [
  {
   "cell_type": "markdown",
   "metadata": {},
   "source": [
    "# Double Each Element in a List\n",
    "This program takes a list of numbers and doubles each element.\n",
    "\n",
    "Example:\n",
    "- Input: [1, 2, 3, 4]\n",
    "- Output: [2, 4, 6, 8]\n",
    "\n",
    "The program loops through each index of the list, multiplies the value by 2, and updates the list."
   ]
  },
  {
   "cell_type": "code",
   "execution_count": 1,
   "metadata": {},
   "outputs": [
    {
     "name": "stdout",
     "output_type": "stream",
     "text": [
      "[2, 4, 6, 8]\n"
     ]
    }
   ],
   "source": [
    "def main():\n",
    "    numbers = [1, 2, 3, 4]  # Creates a list of numbers\n",
    "\n",
    "    for i in range(len(numbers)):  # Loop through the indices of the list\n",
    "        numbers[i] = numbers[i] * 2  # Double the value at each index\n",
    "\n",
    "    print(numbers)  # Print the updated list\n",
    "\n",
    "if __name__ == '__main__':\n",
    "    main()"
   ]
  }
 ],
 "metadata": {
  "kernelspec": {
   "display_name": "Python 3",
   "language": "python",
   "name": "python3"
  },
  "language_info": {
   "codemirror_mode": {
    "name": "ipython",
    "version": 3
   },
   "file_extension": ".py",
   "mimetype": "text/x-python",
   "name": "python",
   "nbconvert_exporter": "python",
   "pygments_lexer": "ipython3",
   "version": "3.13.2"
  }
 },
 "nbformat": 4,
 "nbformat_minor": 2
}
