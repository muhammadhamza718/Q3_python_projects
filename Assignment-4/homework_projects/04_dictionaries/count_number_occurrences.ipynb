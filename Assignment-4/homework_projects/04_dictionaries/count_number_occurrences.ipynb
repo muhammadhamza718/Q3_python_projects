{
 "cells": [
  {
   "cell_type": "markdown",
   "metadata": {},
   "source": [
    "# Counting Number Occurrences\n",
    "\n",
    "## Problem Statement\n",
    "\n",
    "This program counts the number of times each number appears in a list. It uses a dictionary to keep track of the information.\n",
    "\n",
    "### Example Run\n",
    "**User Input:**"
   ]
  },
  {
   "cell_type": "code",
   "execution_count": 2,
   "metadata": {},
   "outputs": [
    {
     "name": "stdout",
     "output_type": "stream",
     "text": [
      "85 appears 2 times.\n",
      "75 appears 2 times.\n",
      "95 appears 2 times.\n",
      "65 appears 2 times.\n",
      "35 appears 2 times.\n",
      "25 appears 2 times.\n",
      "15 appears 2 times.\n",
      "45 appears 2 times.\n",
      "55 appears 1 times.\n"
     ]
    }
   ],
   "source": [
    "def get_user_numbers():\n",
    "    \"\"\"\n",
    "    Create an empty list.\n",
    "    Ask the user to input numbers and store them in a list. \n",
    "    Once they enter a blank line, break out of the loop and return the list.\n",
    "    \"\"\"\n",
    "    user_numbers = []\n",
    "    while True:\n",
    "        user_input = input(\"Enter a number: \")\n",
    "        \n",
    "        # If the user enters a blank line, break out of the loop and stop asking for input\n",
    "        if user_input == \"\":\n",
    "            break\n",
    "        \n",
    "        # Convert the user input to an integer and add it to the list\n",
    "        num = int(user_input)\n",
    "        user_numbers.append(num)\n",
    "    \n",
    "    return user_numbers\n",
    "\n",
    "def count_nums(num_lst):\n",
    "    \"\"\"\n",
    "    Create an empty dictionary.\n",
    "    Loop over the list of numbers. \n",
    "    If the number is not in the dictionary, add it as a key with a value of 1.\n",
    "    If the number is in the dictionary, increment its value by 1.\n",
    "    \"\"\"\n",
    "    num_dict = {}\n",
    "    for num in num_lst:\n",
    "        num_dict[num] = num_dict.get(num, 0) + 1  # More efficient way to count occurrences\n",
    "    \n",
    "    return num_dict\n",
    "\n",
    "def print_counts(num_dict):\n",
    "    \"\"\"\n",
    "    Loop over the dictionary and print out each key and its value.\n",
    "    \"\"\"\n",
    "    for num, count in num_dict.items():\n",
    "        print(f\"{num} appears {count} times.\")\n",
    "\n",
    "def main():\n",
    "    \"\"\"\n",
    "    Ask the user to input numbers and store them in a list. Once they enter a blank line,\n",
    "    print out the number of times each number appeared in the list.\n",
    "    \"\"\"\n",
    "    user_numbers = get_user_numbers()\n",
    "    num_dict = count_nums(user_numbers)\n",
    "    print_counts(num_dict)\n",
    "\n",
    "# Python boilerplate.\n",
    "if __name__ == '__main__':\n",
    "    main()\n"
   ]
  },
  {
   "cell_type": "markdown",
   "metadata": {},
   "source": [
    "\n",
    "### Implementation\n",
    "The program:\n",
    "1. Takes user input until a blank line is entered.\n",
    "2. Stores numbers in a list.\n",
    "3. Uses a dictionary to count occurrences.\n",
    "4. Displays the results.\n",
    "\n",
    "The following cell contains the Python implementation:\n"
   ]
  }
 ],
 "metadata": {
  "kernelspec": {
   "display_name": "Python 3",
   "language": "python",
   "name": "python3"
  },
  "language_info": {
   "codemirror_mode": {
    "name": "ipython",
    "version": 3
   },
   "file_extension": ".py",
   "mimetype": "text/x-python",
   "name": "python",
   "nbconvert_exporter": "python",
   "pygments_lexer": "ipython3",
   "version": "3.13.2"
  }
 },
 "nbformat": 4,
 "nbformat_minor": 2
}
