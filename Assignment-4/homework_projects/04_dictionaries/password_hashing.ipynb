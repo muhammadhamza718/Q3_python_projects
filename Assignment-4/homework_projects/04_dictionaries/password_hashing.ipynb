{
 "cells": [
  {
   "cell_type": "markdown",
   "metadata": {},
   "source": [
    "## Problem Statement\n",
    "\n",
    "You want to be safe online and use different passwords for different websites. However, you are forgetful at times and want to make a program that can match which password belongs to which website without storing the actual password!\n",
    "\n",
    "This can be done via something called hashing. Hashing is when we take something and convert it into a different, unique identifier. This is done using a hash function. Luckily, there are several resources that can help us with this.\n",
    "\n",
    "For example, using a hash function called SHA256(...) something as simple as \n",
    "\n",
    "hello\n",
    "\n",
    "can be hashed into a much more complex \n",
    "\n",
    "2cf24dba5fb0a30e26e83b2ac5b9e29e1b161e5c1fa7425e73043362938b9824\n",
    "\n",
    "Fill out the login(...) function for a website that hashes their passwords. Login should return True if an email's stored password hash in stored_logins is the same as the hash of password_to_check.\n",
    "\n",
    "(Hint. You will need to use the provided hash_password(...) function. You don't necessarily need to know how it works, just know that hash_password(...) returns the hash for the password!)"
   ]
  },
  {
   "cell_type": "code",
   "execution_count": 1,
   "metadata": {},
   "outputs": [
    {
     "name": "stdout",
     "output_type": "stream",
     "text": [
      "Test Cases for Login Function:\n",
      "Login example@gmail.com with 'word': False\n",
      "Login example@gmail.com with 'password': True\n",
      "Login code_in_placer@cip.org with 'Karel': False\n",
      "Login code_in_placer@cip.org with 'karel': True\n",
      "Login student@stanford.edu with 'password': False\n",
      "Login student@stanford.edu with '123!456?789': True\n"
     ]
    }
   ],
   "source": [
    "# Import necessary library\n",
    "from hashlib import sha256\n",
    "\n",
    "# Function to hash a password\n",
    "def hash_password(password):\n",
    "    \"\"\"\n",
    "    Takes in a password and returns the SHA256 hashed value for that specific password.\n",
    "    \n",
    "    Inputs:\n",
    "        password: the password we want\n",
    "    \n",
    "    Outputs:\n",
    "        the hashed form of the input password\n",
    "    \"\"\"\n",
    "    return sha256(password.encode()).hexdigest()\n",
    "\n",
    "# Function to verify login\n",
    "def login(email, stored_logins, password_to_check):\n",
    "    \"\"\"\n",
    "    Returns True if the hash of the password we are checking matches the one in stored_logins\n",
    "    for a specific email. Otherwise, returns False.\n",
    "\n",
    "    email: the email we are checking the password for\n",
    "    stored_logins: a dictionary pointing from an email to its hashed password\n",
    "    password_to_check: a password we want to test alongside the email to login with\n",
    "    \"\"\"\n",
    "    if email in stored_logins and stored_logins[email] == hash_password(password_to_check):\n",
    "        return True\n",
    "    return False\n",
    "\n",
    "# Main function\n",
    "def main():\n",
    "    \"\"\"\n",
    "    This function initializes stored logins and tests the login function.\n",
    "    \"\"\"\n",
    "    stored_logins = {\n",
    "        \"example@gmail.com\": \"5e884898da28047151d0e56f8dc6292773603d0d6aabbdd62a11ef721d1542d8\",\n",
    "        \"code_in_placer@cip.org\": \"973607a4ae7b4cf7d96a100b0fb07e8519cc4f70441d41214a9f811577bb06cc\",\n",
    "        \"student@stanford.edu\": \"882c6df720fd99f5eebb1581a1cf975625cea8a160283011c0b9512bb56c95fb\"\n",
    "    }\n",
    "    \n",
    "    print(\"Test Cases for Login Function:\")\n",
    "    print(\"Login example@gmail.com with 'word':\", login(\"example@gmail.com\", stored_logins, \"word\"))\n",
    "    print(\"Login example@gmail.com with 'password':\", login(\"example@gmail.com\", stored_logins, \"password\"))\n",
    "    \n",
    "    print(\"Login code_in_placer@cip.org with 'Karel':\", login(\"code_in_placer@cip.org\", stored_logins, \"Karel\"))\n",
    "    print(\"Login code_in_placer@cip.org with 'karel':\", login(\"code_in_placer@cip.org\", stored_logins, \"karel\"))\n",
    "    \n",
    "    print(\"Login student@stanford.edu with 'password':\", login(\"student@stanford.edu\", stored_logins, \"password\"))\n",
    "    print(\"Login student@stanford.edu with '123!456?789':\", login(\"student@stanford.edu\", stored_logins, \"123!456?789\"))\n",
    "\n",
    "# Run the main function\n",
    "if __name__ == '__main__':\n",
    "    main()"
   ]
  }
 ],
 "metadata": {
  "kernelspec": {
   "display_name": "Python 3",
   "language": "python",
   "name": "python3"
  },
  "language_info": {
   "codemirror_mode": {
    "name": "ipython",
    "version": 3
   },
   "file_extension": ".py",
   "mimetype": "text/x-python",
   "name": "python",
   "nbconvert_exporter": "python",
   "pygments_lexer": "ipython3",
   "version": "3.13.2"
  }
 },
 "nbformat": 4,
 "nbformat_minor": 2
}
