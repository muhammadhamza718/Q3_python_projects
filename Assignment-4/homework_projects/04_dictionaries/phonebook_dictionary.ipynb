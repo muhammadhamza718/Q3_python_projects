{
 "cells": [
  {
   "cell_type": "markdown",
   "metadata": {},
   "source": [
    "# Phonebook Dictionary Program\n",
    "\n",
    "## Problem Statement\n",
    "\n",
    "This program demonstrates the use of dictionaries to store and manage a phonebook.\n",
    "\n",
    "### Features:\n",
    "1. Users can input names and phone numbers to store them in a dictionary.\n",
    "2. The program allows users to retrieve phone numbers by name.\n",
    "3. The stored phonebook data is displayed for reference.\n",
    "\n",
    "### Example Run:"
   ]
  },
  {
   "cell_type": "code",
   "execution_count": 1,
   "metadata": {},
   "outputs": [
    {
     "name": "stdout",
     "output_type": "stream",
     "text": [
      "hamza -> 03332207909\n"
     ]
    }
   ],
   "source": [
    "def read_phone_numbers():\n",
    "    \"\"\"\n",
    "    Ask the user for names/numbers to store in a phonebook (dictionary).\n",
    "    Returns the phonebook.\n",
    "    \"\"\"\n",
    "    phonebook = {}  # Create empty phonebook\n",
    "\n",
    "    while True:\n",
    "        name = input(\"Name: \")\n",
    "        if name == \"\":\n",
    "            break\n",
    "        number = input(\"Number: \")\n",
    "        phonebook[name] = number\n",
    "\n",
    "    return phonebook\n",
    "\n",
    "\n",
    "def print_phonebook(phonebook):\n",
    "    \"\"\"\n",
    "    Prints out all the names/numbers in the phonebook.\n",
    "    \"\"\"\n",
    "    for name in phonebook:\n",
    "        print(str(name) + \" -> \" + str(phonebook[name]))\n",
    "\n",
    "\n",
    "def lookup_numbers(phonebook):\n",
    "    \"\"\"\n",
    "    Allow the user to lookup phone numbers in the phonebook\n",
    "    by looking up the number associated with a name.\n",
    "    \"\"\"\n",
    "    while True:\n",
    "        name = input(\"Enter name to lookup: \")\n",
    "        if name == \"\":\n",
    "            break\n",
    "        if name not in phonebook:\n",
    "            print(name + \" is not in the phonebook\")\n",
    "        else:\n",
    "            print(phonebook[name])\n",
    "\n",
    "\n",
    "def main():\n",
    "    phonebook = read_phone_numbers()\n",
    "    print_phonebook(phonebook)\n",
    "    lookup_numbers(phonebook)\n",
    "\n",
    "\n",
    "# Python boilerplate.\n",
    "if __name__ == '__main__':\n",
    "    main()\n"
   ]
  }
 ],
 "metadata": {
  "kernelspec": {
   "display_name": "Python 3",
   "language": "python",
   "name": "python3"
  },
  "language_info": {
   "codemirror_mode": {
    "name": "ipython",
    "version": 3
   },
   "file_extension": ".py",
   "mimetype": "text/x-python",
   "name": "python",
   "nbconvert_exporter": "python",
   "pygments_lexer": "ipython3",
   "version": "3.13.2"
  }
 },
 "nbformat": 4,
 "nbformat_minor": 2
}
