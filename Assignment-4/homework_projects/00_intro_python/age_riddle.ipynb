{
 "cells": [
  {
   "cell_type": "markdown",
   "metadata": {},
   "source": [
    "# Age-Related Riddle Solver\n",
    "This program calculates and prints the ages of Anton, Beth, Chen, Drew, and Ethan based on the given conditions.\n"
   ]
  },
  {
   "cell_type": "code",
   "execution_count": 1,
   "metadata": {},
   "outputs": [
    {
     "name": "stdout",
     "output_type": "stream",
     "text": [
      "Anton is 21\n",
      "Beth is 27\n",
      "Chen is 47\n",
      "Drew is 68\n",
      "Ethan is 47\n"
     ]
    }
   ],
   "source": [
    "def main():\n",
    "    anton = 21  # Anton's age is given as 21 years old\n",
    "    beth = 6 + anton  # Beth is 6 years older than Anton\n",
    "    chen = 20 + beth  # Chen is 20 years older than Beth\n",
    "    drew = chen + anton  # Drew is as old as Chen's age plus Anton's age\n",
    "    ethan = chen  # Ethan is the same age as Chen\n",
    "\n",
    "    # Print out all of the ages!\n",
    "    print(\"Anton is \" + str(anton))\n",
    "    print(\"Beth is \" + str(beth))\n",
    "    print(\"Chen is \" + str(chen))\n",
    "    print(\"Drew is \" + str(drew))\n",
    "    print(\"Ethan is \" + str(ethan))\n",
    "\n",
    "# Calling the main function\n",
    "if __name__ == '__main__':\n",
    "    main()"
   ]
  }
 ],
 "metadata": {
  "kernelspec": {
   "display_name": "Python 3",
   "language": "python",
   "name": "python3"
  },
  "language_info": {
   "codemirror_mode": {
    "name": "ipython",
    "version": 3
   },
   "file_extension": ".py",
   "mimetype": "text/x-python",
   "name": "python",
   "nbconvert_exporter": "python",
   "pygments_lexer": "ipython3",
   "version": "3.13.2"
  }
 },
 "nbformat": 4,
 "nbformat_minor": 2
}
