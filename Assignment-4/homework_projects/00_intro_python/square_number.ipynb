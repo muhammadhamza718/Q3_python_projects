{
 "cells": [
  {
   "cell_type": "markdown",
   "metadata": {},
   "source": [
    "# Number Squaring Program\n",
    "This program asks the user for a number and prints its square (number multiplied by itself).\n"
   ]
  },
  {
   "cell_type": "code",
   "execution_count": 1,
   "metadata": {},
   "outputs": [
    {
     "name": "stdout",
     "output_type": "stream",
     "text": [
      "10.0 squared is 100.0\n"
     ]
    }
   ],
   "source": [
    "def main():\n",
    "    # Ask the user for a number\n",
    "    num = float(input(\"Type a number to see its square: \"))  # Convert input to float for calculations\n",
    "\n",
    "    # Print the squared result\n",
    "    print(str(num) + \" squared is \" + str(num ** 2))  # Using ** operator for squaring\n",
    "\n",
    "# Calling the main function\n",
    "if __name__ == '__main__':\n",
    "    main()\n"
   ]
  }
 ],
 "metadata": {
  "kernelspec": {
   "display_name": "Python 3",
   "language": "python",
   "name": "python3"
  },
  "language_info": {
   "codemirror_mode": {
    "name": "ipython",
    "version": 3
   },
   "file_extension": ".py",
   "mimetype": "text/x-python",
   "name": "python",
   "nbconvert_exporter": "python",
   "pygments_lexer": "ipython3",
   "version": "3.13.2"
  }
 },
 "nbformat": 4,
 "nbformat_minor": 2
}
